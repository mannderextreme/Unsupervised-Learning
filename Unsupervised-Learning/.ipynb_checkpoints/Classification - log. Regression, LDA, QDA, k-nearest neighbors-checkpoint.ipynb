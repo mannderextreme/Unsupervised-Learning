{
 "cells": [
  {
   "cell_type": "code",
   "execution_count": 1,
   "metadata": {},
   "outputs": [],
   "source": [
    "#import library\n",
    "import pandas as pd\n",
    "import numpy as np\n",
    "import matplotlib.pyplot as plt\n",
    "import seaborn as sns\n",
    "import sklearn.linear_model as skl_lm\n",
    "from sklearn.linear_model import LogisticRegression #contains Model for Logistic Regression\n",
    "from sklearn.model_selection import train_test_split #for spilting the data into training data and test data\n",
    "from sklearn.discriminant_analysis import LinearDiscriminantAnalysis\n",
    "from sklearn.discriminant_analysis import QuadraticDiscriminantAnalysis\n",
    "from sklearn.metrics import confusion_matrix, classification_report, precision_score\n",
    "from sklearn.preprocessing import Imputer\n",
    "from sklearn import neighbors"
   ]
  },
  {
   "cell_type": "code",
   "execution_count": 2,
   "metadata": {},
   "outputs": [
    {
     "data": {
      "text/html": [
       "<div>\n",
       "<style scoped>\n",
       "    .dataframe tbody tr th:only-of-type {\n",
       "        vertical-align: middle;\n",
       "    }\n",
       "\n",
       "    .dataframe tbody tr th {\n",
       "        vertical-align: top;\n",
       "    }\n",
       "\n",
       "    .dataframe thead th {\n",
       "        text-align: right;\n",
       "    }\n",
       "</style>\n",
       "<table border=\"1\" class=\"dataframe\">\n",
       "  <thead>\n",
       "    <tr style=\"text-align: right;\">\n",
       "      <th></th>\n",
       "      <th>RandID</th>\n",
       "      <th>Sex</th>\n",
       "      <th>Age</th>\n",
       "      <th>SysBP</th>\n",
       "      <th>DiaBP</th>\n",
       "      <th>BPMeds</th>\n",
       "      <th>Cursmoke</th>\n",
       "      <th>Cigpday</th>\n",
       "      <th>Educ</th>\n",
       "      <th>Totchol</th>\n",
       "      <th>...</th>\n",
       "      <th>BMI</th>\n",
       "      <th>Glucose</th>\n",
       "      <th>Diabetes</th>\n",
       "      <th>HeartRate</th>\n",
       "      <th>PrevAP</th>\n",
       "      <th>PrevStrk</th>\n",
       "      <th>AnyCHD</th>\n",
       "      <th>TimeCHD</th>\n",
       "      <th>Death</th>\n",
       "      <th>TimeDeath</th>\n",
       "    </tr>\n",
       "  </thead>\n",
       "  <tbody>\n",
       "    <tr>\n",
       "      <th>0</th>\n",
       "      <td>2448</td>\n",
       "      <td>1</td>\n",
       "      <td>52</td>\n",
       "      <td>121</td>\n",
       "      <td>66</td>\n",
       "      <td>0</td>\n",
       "      <td>0</td>\n",
       "      <td>0</td>\n",
       "      <td>4</td>\n",
       "      <td>209</td>\n",
       "      <td>...</td>\n",
       "      <td></td>\n",
       "      <td>92</td>\n",
       "      <td>0</td>\n",
       "      <td>69</td>\n",
       "      <td>0</td>\n",
       "      <td>0</td>\n",
       "      <td>1</td>\n",
       "      <td>1810</td>\n",
       "      <td>2</td>\n",
       "      <td>4138</td>\n",
       "    </tr>\n",
       "    <tr>\n",
       "      <th>1</th>\n",
       "      <td>6238</td>\n",
       "      <td>2</td>\n",
       "      <td>58</td>\n",
       "      <td>108</td>\n",
       "      <td>66</td>\n",
       "      <td>0</td>\n",
       "      <td>0</td>\n",
       "      <td>0</td>\n",
       "      <td>2</td>\n",
       "      <td>237</td>\n",
       "      <td>...</td>\n",
       "      <td>28,5</td>\n",
       "      <td>71</td>\n",
       "      <td>0</td>\n",
       "      <td>80</td>\n",
       "      <td>0</td>\n",
       "      <td>0</td>\n",
       "      <td>2</td>\n",
       "      <td>4422</td>\n",
       "      <td>2</td>\n",
       "      <td>4422</td>\n",
       "    </tr>\n",
       "    <tr>\n",
       "      <th>2</th>\n",
       "      <td>11252</td>\n",
       "      <td>2</td>\n",
       "      <td>58</td>\n",
       "      <td>155</td>\n",
       "      <td>90</td>\n",
       "      <td>0</td>\n",
       "      <td>1</td>\n",
       "      <td>30</td>\n",
       "      <td>3</td>\n",
       "      <td></td>\n",
       "      <td>...</td>\n",
       "      <td>24,61</td>\n",
       "      <td></td>\n",
       "      <td>0</td>\n",
       "      <td>74</td>\n",
       "      <td>0</td>\n",
       "      <td>0</td>\n",
       "      <td>2</td>\n",
       "      <td>4481</td>\n",
       "      <td>2</td>\n",
       "      <td>4481</td>\n",
       "    </tr>\n",
       "    <tr>\n",
       "      <th>3</th>\n",
       "      <td>11263</td>\n",
       "      <td>2</td>\n",
       "      <td>55</td>\n",
       "      <td>180</td>\n",
       "      <td>106</td>\n",
       "      <td>1</td>\n",
       "      <td>0</td>\n",
       "      <td>0</td>\n",
       "      <td>2</td>\n",
       "      <td>220</td>\n",
       "      <td>...</td>\n",
       "      <td>31,17</td>\n",
       "      <td>81</td>\n",
       "      <td>1</td>\n",
       "      <td>86</td>\n",
       "      <td>0</td>\n",
       "      <td>0</td>\n",
       "      <td>1</td>\n",
       "      <td>1368</td>\n",
       "      <td>2</td>\n",
       "      <td>4415</td>\n",
       "    </tr>\n",
       "    <tr>\n",
       "      <th>4</th>\n",
       "      <td>12806</td>\n",
       "      <td>2</td>\n",
       "      <td>57</td>\n",
       "      <td>110</td>\n",
       "      <td>46</td>\n",
       "      <td>0</td>\n",
       "      <td>1</td>\n",
       "      <td>30</td>\n",
       "      <td>2</td>\n",
       "      <td>320</td>\n",
       "      <td>...</td>\n",
       "      <td>22,02</td>\n",
       "      <td>87</td>\n",
       "      <td>0</td>\n",
       "      <td>75</td>\n",
       "      <td>0</td>\n",
       "      <td>0</td>\n",
       "      <td>2</td>\n",
       "      <td>4477</td>\n",
       "      <td>2</td>\n",
       "      <td>4477</td>\n",
       "    </tr>\n",
       "    <tr>\n",
       "      <th>5</th>\n",
       "      <td>14367</td>\n",
       "      <td>1</td>\n",
       "      <td>64</td>\n",
       "      <td>168</td>\n",
       "      <td>100</td>\n",
       "      <td>0</td>\n",
       "      <td>0</td>\n",
       "      <td>0</td>\n",
       "      <td>1</td>\n",
       "      <td>280</td>\n",
       "      <td>...</td>\n",
       "      <td>25,72</td>\n",
       "      <td>82</td>\n",
       "      <td>0</td>\n",
       "      <td>92</td>\n",
       "      <td>0</td>\n",
       "      <td>0</td>\n",
       "      <td>2</td>\n",
       "      <td>4328</td>\n",
       "      <td>2</td>\n",
       "      <td>4328</td>\n",
       "    </tr>\n",
       "    <tr>\n",
       "      <th>6</th>\n",
       "      <td>16365</td>\n",
       "      <td>1</td>\n",
       "      <td>55</td>\n",
       "      <td>173</td>\n",
       "      <td>123</td>\n",
       "      <td>1</td>\n",
       "      <td>0</td>\n",
       "      <td>0</td>\n",
       "      <td>1</td>\n",
       "      <td>211</td>\n",
       "      <td>...</td>\n",
       "      <td>29,11</td>\n",
       "      <td>85</td>\n",
       "      <td>0</td>\n",
       "      <td>75</td>\n",
       "      <td>0</td>\n",
       "      <td>0</td>\n",
       "      <td>2</td>\n",
       "      <td>4398</td>\n",
       "      <td>2</td>\n",
       "      <td>4398</td>\n",
       "    </tr>\n",
       "    <tr>\n",
       "      <th>7</th>\n",
       "      <td>16799</td>\n",
       "      <td>2</td>\n",
       "      <td>62</td>\n",
       "      <td>120</td>\n",
       "      <td>70</td>\n",
       "      <td></td>\n",
       "      <td>0</td>\n",
       "      <td>0</td>\n",
       "      <td>1</td>\n",
       "      <td>291</td>\n",
       "      <td>...</td>\n",
       "      <td>21,98</td>\n",
       "      <td>83</td>\n",
       "      <td>0</td>\n",
       "      <td>62</td>\n",
       "      <td>0</td>\n",
       "      <td>0</td>\n",
       "      <td>2</td>\n",
       "      <td>4335</td>\n",
       "      <td>2</td>\n",
       "      <td>4335</td>\n",
       "    </tr>\n",
       "    <tr>\n",
       "      <th>8</th>\n",
       "      <td>23727</td>\n",
       "      <td>2</td>\n",
       "      <td>53</td>\n",
       "      <td>124</td>\n",
       "      <td>78</td>\n",
       "      <td>0</td>\n",
       "      <td>0</td>\n",
       "      <td>0</td>\n",
       "      <td>3</td>\n",
       "      <td>159</td>\n",
       "      <td>...</td>\n",
       "      <td>26,62</td>\n",
       "      <td>135</td>\n",
       "      <td>0</td>\n",
       "      <td>68</td>\n",
       "      <td>0</td>\n",
       "      <td>0</td>\n",
       "      <td>2</td>\n",
       "      <td>1089</td>\n",
       "      <td>1</td>\n",
       "      <td>1089</td>\n",
       "    </tr>\n",
       "    <tr>\n",
       "      <th>9</th>\n",
       "      <td>24721</td>\n",
       "      <td>2</td>\n",
       "      <td>51</td>\n",
       "      <td>141</td>\n",
       "      <td>81</td>\n",
       "      <td>0</td>\n",
       "      <td>1</td>\n",
       "      <td>15</td>\n",
       "      <td>2</td>\n",
       "      <td>264</td>\n",
       "      <td>...</td>\n",
       "      <td>24,77</td>\n",
       "      <td>97</td>\n",
       "      <td>0</td>\n",
       "      <td>85</td>\n",
       "      <td>0</td>\n",
       "      <td>0</td>\n",
       "      <td>2</td>\n",
       "      <td>2003</td>\n",
       "      <td>1</td>\n",
       "      <td>2003</td>\n",
       "    </tr>\n",
       "  </tbody>\n",
       "</table>\n",
       "<p>10 rows × 22 columns</p>\n",
       "</div>"
      ],
      "text/plain": [
       "   RandID  Sex  Age SysBP DiaBP BPMeds  Cursmoke Cigpday Educ Totchol  \\\n",
       "0    2448    1   52   121    66      0         0       0    4     209   \n",
       "1    6238    2   58   108    66      0         0       0    2     237   \n",
       "2   11252    2   58   155    90      0         1      30    3           \n",
       "3   11263    2   55   180   106      1         0       0    2     220   \n",
       "4   12806    2   57   110    46      0         1      30    2     320   \n",
       "5   14367    1   64   168   100      0         0       0    1     280   \n",
       "6   16365    1   55   173   123      1         0       0    1     211   \n",
       "7   16799    2   62   120    70                0       0    1     291   \n",
       "8   23727    2   53   124    78      0         0       0    3     159   \n",
       "9   24721    2   51   141    81      0         1      15    2     264   \n",
       "\n",
       "     ...        BMI Glucose Diabetes HeartRate  PrevAP PrevStrk  AnyCHD  \\\n",
       "0    ...                 92        0        69       0        0       1   \n",
       "1    ...       28,5      71        0        80       0        0       2   \n",
       "2    ...      24,61                0        74       0        0       2   \n",
       "3    ...      31,17      81        1        86       0        0       1   \n",
       "4    ...      22,02      87        0        75       0        0       2   \n",
       "5    ...      25,72      82        0        92       0        0       2   \n",
       "6    ...      29,11      85        0        75       0        0       2   \n",
       "7    ...      21,98      83        0        62       0        0       2   \n",
       "8    ...      26,62     135        0        68       0        0       2   \n",
       "9    ...      24,77      97        0        85       0        0       2   \n",
       "\n",
       "   TimeCHD  Death  TimeDeath  \n",
       "0     1810      2       4138  \n",
       "1     4422      2       4422  \n",
       "2     4481      2       4481  \n",
       "3     1368      2       4415  \n",
       "4     4477      2       4477  \n",
       "5     4328      2       4328  \n",
       "6     4398      2       4398  \n",
       "7     4335      2       4335  \n",
       "8     1089      1       1089  \n",
       "9     2003      1       2003  \n",
       "\n",
       "[10 rows x 22 columns]"
      ]
     },
     "execution_count": 2,
     "metadata": {},
     "output_type": "execute_result"
    }
   ],
   "source": [
    "#load framingham data set\n",
    "fh = pd.read_csv(\"framingham.csv\", sep=\";\")#,/*index_col=Falseheader=0)\n",
    "\n",
    "fh.head(10)"
   ]
  },
  {
   "cell_type": "code",
   "execution_count": 3,
   "metadata": {},
   "outputs": [
    {
     "data": {
      "text/plain": [
       "2    2321\n",
       "1     582\n",
       "Name: Death, dtype: int64"
      ]
     },
     "execution_count": 3,
     "metadata": {},
     "output_type": "execute_result"
    }
   ],
   "source": [
    "fh.size\n",
    "fh['Death'].value_counts()"
   ]
  },
  {
   "cell_type": "code",
   "execution_count": 4,
   "metadata": {},
   "outputs": [
    {
     "data": {
      "text/plain": [
       "2    2416\n",
       "1     487\n",
       "Name: AnyCHD, dtype: int64"
      ]
     },
     "execution_count": 4,
     "metadata": {},
     "output_type": "execute_result"
    }
   ],
   "source": [
    "fh['AnyCHD'].value_counts()"
   ]
  },
  {
   "cell_type": "code",
   "execution_count": 5,
   "metadata": {},
   "outputs": [
    {
     "data": {
      "text/plain": [
       "RandID         0\n",
       "Sex            0\n",
       "Age            0\n",
       "SysBP          0\n",
       "DiaBP          0\n",
       "BPMeds       399\n",
       "Cursmoke       0\n",
       "Cigpday       11\n",
       "Educ          73\n",
       "Totchol      186\n",
       "HDLC         206\n",
       "LDLC         207\n",
       "BMI           16\n",
       "Glucose      497\n",
       "Diabetes       0\n",
       "HeartRate      4\n",
       "PrevAP         0\n",
       "PrevStrk       0\n",
       "AnyCHD         0\n",
       "TimeCHD        0\n",
       "Death          0\n",
       "TimeDeath      0\n",
       "dtype: int64"
      ]
     },
     "execution_count": 5,
     "metadata": {},
     "output_type": "execute_result"
    }
   ],
   "source": [
    "#trainingDf = fh[[\"Age\", \"BMI\", \"HeartRate\", \"Death\", \"AnyCHD\"]]\n",
    "fh.replace(to_replace = \" \", value= np.nan, inplace =True)\n",
    "#fh.dropna(inplace = True)\n",
    "\n",
    "## if not executed change what it means: 1 event did occur, 0 it did not occur\n",
    "#fh['Death'] = fh['Death'].replace(1,0)\n",
    "#fh['AnyCHD'] = fh['AnyCHD'].replace(1,0)\n",
    "fh.head(10)\n",
    "fh.describe()\n",
    "fh.isnull().sum()"
   ]
  },
  {
   "cell_type": "code",
   "execution_count": 6,
   "metadata": {
    "scrolled": true
   },
   "outputs": [
    {
     "data": {
      "text/html": [
       "<div>\n",
       "<style scoped>\n",
       "    .dataframe tbody tr th:only-of-type {\n",
       "        vertical-align: middle;\n",
       "    }\n",
       "\n",
       "    .dataframe tbody tr th {\n",
       "        vertical-align: top;\n",
       "    }\n",
       "\n",
       "    .dataframe thead th {\n",
       "        text-align: right;\n",
       "    }\n",
       "</style>\n",
       "<table border=\"1\" class=\"dataframe\">\n",
       "  <thead>\n",
       "    <tr style=\"text-align: right;\">\n",
       "      <th></th>\n",
       "      <th>RandID</th>\n",
       "      <th>Sex</th>\n",
       "      <th>Age</th>\n",
       "      <th>SysBP</th>\n",
       "      <th>DiaBP</th>\n",
       "      <th>BPMeds</th>\n",
       "      <th>Cursmoke</th>\n",
       "      <th>Cigpday</th>\n",
       "      <th>Educ</th>\n",
       "      <th>Totchol</th>\n",
       "      <th>...</th>\n",
       "      <th>BMI</th>\n",
       "      <th>Glucose</th>\n",
       "      <th>Diabetes</th>\n",
       "      <th>HeartRate</th>\n",
       "      <th>PrevAP</th>\n",
       "      <th>PrevStrk</th>\n",
       "      <th>AnyCHD</th>\n",
       "      <th>TimeCHD</th>\n",
       "      <th>Death</th>\n",
       "      <th>TimeDeath</th>\n",
       "    </tr>\n",
       "  </thead>\n",
       "  <tbody>\n",
       "    <tr>\n",
       "      <th>0</th>\n",
       "      <td>2448</td>\n",
       "      <td>1</td>\n",
       "      <td>52</td>\n",
       "      <td>121</td>\n",
       "      <td>66</td>\n",
       "      <td>0</td>\n",
       "      <td>0</td>\n",
       "      <td>0</td>\n",
       "      <td>4</td>\n",
       "      <td>209</td>\n",
       "      <td>...</td>\n",
       "      <td>NaN</td>\n",
       "      <td>92</td>\n",
       "      <td>0</td>\n",
       "      <td>69</td>\n",
       "      <td>0</td>\n",
       "      <td>0</td>\n",
       "      <td>1</td>\n",
       "      <td>1810</td>\n",
       "      <td>0</td>\n",
       "      <td>4138</td>\n",
       "    </tr>\n",
       "    <tr>\n",
       "      <th>1</th>\n",
       "      <td>6238</td>\n",
       "      <td>2</td>\n",
       "      <td>58</td>\n",
       "      <td>108</td>\n",
       "      <td>66</td>\n",
       "      <td>0</td>\n",
       "      <td>0</td>\n",
       "      <td>0</td>\n",
       "      <td>2</td>\n",
       "      <td>237</td>\n",
       "      <td>...</td>\n",
       "      <td>28,5</td>\n",
       "      <td>71</td>\n",
       "      <td>0</td>\n",
       "      <td>80</td>\n",
       "      <td>0</td>\n",
       "      <td>0</td>\n",
       "      <td>0</td>\n",
       "      <td>4422</td>\n",
       "      <td>0</td>\n",
       "      <td>4422</td>\n",
       "    </tr>\n",
       "    <tr>\n",
       "      <th>2</th>\n",
       "      <td>11252</td>\n",
       "      <td>2</td>\n",
       "      <td>58</td>\n",
       "      <td>155</td>\n",
       "      <td>90</td>\n",
       "      <td>0</td>\n",
       "      <td>1</td>\n",
       "      <td>30</td>\n",
       "      <td>3</td>\n",
       "      <td>NaN</td>\n",
       "      <td>...</td>\n",
       "      <td>24,61</td>\n",
       "      <td>NaN</td>\n",
       "      <td>0</td>\n",
       "      <td>74</td>\n",
       "      <td>0</td>\n",
       "      <td>0</td>\n",
       "      <td>0</td>\n",
       "      <td>4481</td>\n",
       "      <td>0</td>\n",
       "      <td>4481</td>\n",
       "    </tr>\n",
       "    <tr>\n",
       "      <th>3</th>\n",
       "      <td>11263</td>\n",
       "      <td>2</td>\n",
       "      <td>55</td>\n",
       "      <td>180</td>\n",
       "      <td>106</td>\n",
       "      <td>1</td>\n",
       "      <td>0</td>\n",
       "      <td>0</td>\n",
       "      <td>2</td>\n",
       "      <td>220</td>\n",
       "      <td>...</td>\n",
       "      <td>31,17</td>\n",
       "      <td>81</td>\n",
       "      <td>1</td>\n",
       "      <td>86</td>\n",
       "      <td>0</td>\n",
       "      <td>0</td>\n",
       "      <td>1</td>\n",
       "      <td>1368</td>\n",
       "      <td>0</td>\n",
       "      <td>4415</td>\n",
       "    </tr>\n",
       "    <tr>\n",
       "      <th>4</th>\n",
       "      <td>12806</td>\n",
       "      <td>2</td>\n",
       "      <td>57</td>\n",
       "      <td>110</td>\n",
       "      <td>46</td>\n",
       "      <td>0</td>\n",
       "      <td>1</td>\n",
       "      <td>30</td>\n",
       "      <td>2</td>\n",
       "      <td>320</td>\n",
       "      <td>...</td>\n",
       "      <td>22,02</td>\n",
       "      <td>87</td>\n",
       "      <td>0</td>\n",
       "      <td>75</td>\n",
       "      <td>0</td>\n",
       "      <td>0</td>\n",
       "      <td>0</td>\n",
       "      <td>4477</td>\n",
       "      <td>0</td>\n",
       "      <td>4477</td>\n",
       "    </tr>\n",
       "    <tr>\n",
       "      <th>5</th>\n",
       "      <td>14367</td>\n",
       "      <td>1</td>\n",
       "      <td>64</td>\n",
       "      <td>168</td>\n",
       "      <td>100</td>\n",
       "      <td>0</td>\n",
       "      <td>0</td>\n",
       "      <td>0</td>\n",
       "      <td>1</td>\n",
       "      <td>280</td>\n",
       "      <td>...</td>\n",
       "      <td>25,72</td>\n",
       "      <td>82</td>\n",
       "      <td>0</td>\n",
       "      <td>92</td>\n",
       "      <td>0</td>\n",
       "      <td>0</td>\n",
       "      <td>0</td>\n",
       "      <td>4328</td>\n",
       "      <td>0</td>\n",
       "      <td>4328</td>\n",
       "    </tr>\n",
       "    <tr>\n",
       "      <th>6</th>\n",
       "      <td>16365</td>\n",
       "      <td>1</td>\n",
       "      <td>55</td>\n",
       "      <td>173</td>\n",
       "      <td>123</td>\n",
       "      <td>1</td>\n",
       "      <td>0</td>\n",
       "      <td>0</td>\n",
       "      <td>1</td>\n",
       "      <td>211</td>\n",
       "      <td>...</td>\n",
       "      <td>29,11</td>\n",
       "      <td>85</td>\n",
       "      <td>0</td>\n",
       "      <td>75</td>\n",
       "      <td>0</td>\n",
       "      <td>0</td>\n",
       "      <td>0</td>\n",
       "      <td>4398</td>\n",
       "      <td>0</td>\n",
       "      <td>4398</td>\n",
       "    </tr>\n",
       "    <tr>\n",
       "      <th>7</th>\n",
       "      <td>16799</td>\n",
       "      <td>2</td>\n",
       "      <td>62</td>\n",
       "      <td>120</td>\n",
       "      <td>70</td>\n",
       "      <td>NaN</td>\n",
       "      <td>0</td>\n",
       "      <td>0</td>\n",
       "      <td>1</td>\n",
       "      <td>291</td>\n",
       "      <td>...</td>\n",
       "      <td>21,98</td>\n",
       "      <td>83</td>\n",
       "      <td>0</td>\n",
       "      <td>62</td>\n",
       "      <td>0</td>\n",
       "      <td>0</td>\n",
       "      <td>0</td>\n",
       "      <td>4335</td>\n",
       "      <td>0</td>\n",
       "      <td>4335</td>\n",
       "    </tr>\n",
       "    <tr>\n",
       "      <th>8</th>\n",
       "      <td>23727</td>\n",
       "      <td>2</td>\n",
       "      <td>53</td>\n",
       "      <td>124</td>\n",
       "      <td>78</td>\n",
       "      <td>0</td>\n",
       "      <td>0</td>\n",
       "      <td>0</td>\n",
       "      <td>3</td>\n",
       "      <td>159</td>\n",
       "      <td>...</td>\n",
       "      <td>26,62</td>\n",
       "      <td>135</td>\n",
       "      <td>0</td>\n",
       "      <td>68</td>\n",
       "      <td>0</td>\n",
       "      <td>0</td>\n",
       "      <td>0</td>\n",
       "      <td>1089</td>\n",
       "      <td>1</td>\n",
       "      <td>1089</td>\n",
       "    </tr>\n",
       "    <tr>\n",
       "      <th>9</th>\n",
       "      <td>24721</td>\n",
       "      <td>2</td>\n",
       "      <td>51</td>\n",
       "      <td>141</td>\n",
       "      <td>81</td>\n",
       "      <td>0</td>\n",
       "      <td>1</td>\n",
       "      <td>15</td>\n",
       "      <td>2</td>\n",
       "      <td>264</td>\n",
       "      <td>...</td>\n",
       "      <td>24,77</td>\n",
       "      <td>97</td>\n",
       "      <td>0</td>\n",
       "      <td>85</td>\n",
       "      <td>0</td>\n",
       "      <td>0</td>\n",
       "      <td>0</td>\n",
       "      <td>2003</td>\n",
       "      <td>1</td>\n",
       "      <td>2003</td>\n",
       "    </tr>\n",
       "  </tbody>\n",
       "</table>\n",
       "<p>10 rows × 22 columns</p>\n",
       "</div>"
      ],
      "text/plain": [
       "   RandID  Sex  Age SysBP DiaBP BPMeds  Cursmoke Cigpday Educ Totchol  \\\n",
       "0    2448    1   52   121    66      0         0       0    4     209   \n",
       "1    6238    2   58   108    66      0         0       0    2     237   \n",
       "2   11252    2   58   155    90      0         1      30    3     NaN   \n",
       "3   11263    2   55   180   106      1         0       0    2     220   \n",
       "4   12806    2   57   110    46      0         1      30    2     320   \n",
       "5   14367    1   64   168   100      0         0       0    1     280   \n",
       "6   16365    1   55   173   123      1         0       0    1     211   \n",
       "7   16799    2   62   120    70    NaN         0       0    1     291   \n",
       "8   23727    2   53   124    78      0         0       0    3     159   \n",
       "9   24721    2   51   141    81      0         1      15    2     264   \n",
       "\n",
       "     ...        BMI Glucose Diabetes HeartRate  PrevAP PrevStrk  AnyCHD  \\\n",
       "0    ...        NaN      92        0        69       0        0       1   \n",
       "1    ...       28,5      71        0        80       0        0       0   \n",
       "2    ...      24,61     NaN        0        74       0        0       0   \n",
       "3    ...      31,17      81        1        86       0        0       1   \n",
       "4    ...      22,02      87        0        75       0        0       0   \n",
       "5    ...      25,72      82        0        92       0        0       0   \n",
       "6    ...      29,11      85        0        75       0        0       0   \n",
       "7    ...      21,98      83        0        62       0        0       0   \n",
       "8    ...      26,62     135        0        68       0        0       0   \n",
       "9    ...      24,77      97        0        85       0        0       0   \n",
       "\n",
       "   TimeCHD  Death  TimeDeath  \n",
       "0     1810      0       4138  \n",
       "1     4422      0       4422  \n",
       "2     4481      0       4481  \n",
       "3     1368      0       4415  \n",
       "4     4477      0       4477  \n",
       "5     4328      0       4328  \n",
       "6     4398      0       4398  \n",
       "7     4335      0       4335  \n",
       "8     1089      1       1089  \n",
       "9     2003      1       2003  \n",
       "\n",
       "[10 rows x 22 columns]"
      ]
     },
     "execution_count": 6,
     "metadata": {},
     "output_type": "execute_result"
    }
   ],
   "source": [
    "#fh['Death'] = fh['Death'].replace(2,1)\n",
    "#fh['AnyCHD'] = fh['AnyCHD'].replace(2,1)\n",
    "\n",
    "fh['Death'] = fh['Death'].replace(2,0)\n",
    "fh['AnyCHD'] = fh['AnyCHD'].replace(2,0)\n",
    "fh.head(10)"
   ]
  },
  {
   "cell_type": "code",
   "execution_count": 7,
   "metadata": {},
   "outputs": [],
   "source": [
    "itarray = ('SysBP', 'BMI', 'Glucose', 'Totchol', 'HDLC', 'LDLC','DiaBP')\n",
    "for column in itarray:\n",
    "    fh[column] = fh[column].astype('str')\n",
    "    fh[column] = fh[column].str.replace(',','.')\n",
    "    fh[column]=fh[column].astype('float')"
   ]
  },
  {
   "cell_type": "code",
   "execution_count": 8,
   "metadata": {},
   "outputs": [],
   "source": [
    "for column in fh:\n",
    "    if fh[column].dtype == 'object':\n",
    "        fh[column] = fh[column].astype('float')"
   ]
  },
  {
   "cell_type": "code",
   "execution_count": 9,
   "metadata": {},
   "outputs": [],
   "source": [
    "values = fh.values\n",
    "imputer = Imputer(missing_values =\"NaN\")\n",
    "transformed_values = imputer.fit_transform(values)"
   ]
  },
  {
   "cell_type": "code",
   "execution_count": 10,
   "metadata": {},
   "outputs": [],
   "source": [
    "filledFh = pd.DataFrame(data= transformed_values, columns= fh.columns)"
   ]
  },
  {
   "cell_type": "code",
   "execution_count": 11,
   "metadata": {},
   "outputs": [
    {
     "data": {
      "text/html": [
       "<div>\n",
       "<style scoped>\n",
       "    .dataframe tbody tr th:only-of-type {\n",
       "        vertical-align: middle;\n",
       "    }\n",
       "\n",
       "    .dataframe tbody tr th {\n",
       "        vertical-align: top;\n",
       "    }\n",
       "\n",
       "    .dataframe thead th {\n",
       "        text-align: right;\n",
       "    }\n",
       "</style>\n",
       "<table border=\"1\" class=\"dataframe\">\n",
       "  <thead>\n",
       "    <tr style=\"text-align: right;\">\n",
       "      <th></th>\n",
       "      <th>RandID</th>\n",
       "      <th>Sex</th>\n",
       "      <th>Age</th>\n",
       "      <th>SysBP</th>\n",
       "      <th>DiaBP</th>\n",
       "      <th>BPMeds</th>\n",
       "      <th>Cursmoke</th>\n",
       "      <th>Cigpday</th>\n",
       "      <th>Educ</th>\n",
       "      <th>Totchol</th>\n",
       "      <th>...</th>\n",
       "      <th>BMI</th>\n",
       "      <th>Glucose</th>\n",
       "      <th>Diabetes</th>\n",
       "      <th>HeartRate</th>\n",
       "      <th>PrevAP</th>\n",
       "      <th>PrevStrk</th>\n",
       "      <th>AnyCHD</th>\n",
       "      <th>TimeCHD</th>\n",
       "      <th>Death</th>\n",
       "      <th>TimeDeath</th>\n",
       "    </tr>\n",
       "  </thead>\n",
       "  <tbody>\n",
       "    <tr>\n",
       "      <th>count</th>\n",
       "      <td>2.903000e+03</td>\n",
       "      <td>2903.000000</td>\n",
       "      <td>2903.000000</td>\n",
       "      <td>2903.000000</td>\n",
       "      <td>2903.000000</td>\n",
       "      <td>2903.000000</td>\n",
       "      <td>2903.000000</td>\n",
       "      <td>2903.000000</td>\n",
       "      <td>2903.000000</td>\n",
       "      <td>2903.000000</td>\n",
       "      <td>...</td>\n",
       "      <td>2903.000000</td>\n",
       "      <td>2903.000000</td>\n",
       "      <td>2903.000000</td>\n",
       "      <td>2903.000000</td>\n",
       "      <td>2903.0</td>\n",
       "      <td>2903.000000</td>\n",
       "      <td>2903.000000</td>\n",
       "      <td>2903.000000</td>\n",
       "      <td>2903.000000</td>\n",
       "      <td>2903.000000</td>\n",
       "    </tr>\n",
       "    <tr>\n",
       "      <th>mean</th>\n",
       "      <td>5.008319e+06</td>\n",
       "      <td>1.591113</td>\n",
       "      <td>60.105408</td>\n",
       "      <td>139.286256</td>\n",
       "      <td>81.733551</td>\n",
       "      <td>0.141773</td>\n",
       "      <td>0.350327</td>\n",
       "      <td>6.908714</td>\n",
       "      <td>2.028622</td>\n",
       "      <td>236.005889</td>\n",
       "      <td>...</td>\n",
       "      <td>25.855559</td>\n",
       "      <td>88.995428</td>\n",
       "      <td>0.066827</td>\n",
       "      <td>77.329079</td>\n",
       "      <td>0.0</td>\n",
       "      <td>0.016879</td>\n",
       "      <td>0.167757</td>\n",
       "      <td>3766.028247</td>\n",
       "      <td>0.200482</td>\n",
       "      <td>4011.496728</td>\n",
       "    </tr>\n",
       "    <tr>\n",
       "      <th>std</th>\n",
       "      <td>2.887748e+06</td>\n",
       "      <td>0.491713</td>\n",
       "      <td>8.222730</td>\n",
       "      <td>22.515701</td>\n",
       "      <td>11.058007</td>\n",
       "      <td>0.324016</td>\n",
       "      <td>0.477155</td>\n",
       "      <td>11.671206</td>\n",
       "      <td>1.010742</td>\n",
       "      <td>41.798794</td>\n",
       "      <td>...</td>\n",
       "      <td>4.014010</td>\n",
       "      <td>22.430572</td>\n",
       "      <td>0.249766</td>\n",
       "      <td>12.342349</td>\n",
       "      <td>0.0</td>\n",
       "      <td>0.128841</td>\n",
       "      <td>0.373715</td>\n",
       "      <td>1199.199053</td>\n",
       "      <td>0.400430</td>\n",
       "      <td>970.169442</td>\n",
       "    </tr>\n",
       "    <tr>\n",
       "      <th>min</th>\n",
       "      <td>2.448000e+03</td>\n",
       "      <td>1.000000</td>\n",
       "      <td>44.000000</td>\n",
       "      <td>86.000000</td>\n",
       "      <td>37.000000</td>\n",
       "      <td>0.000000</td>\n",
       "      <td>0.000000</td>\n",
       "      <td>0.000000</td>\n",
       "      <td>1.000000</td>\n",
       "      <td>112.000000</td>\n",
       "      <td>...</td>\n",
       "      <td>14.430000</td>\n",
       "      <td>46.000000</td>\n",
       "      <td>0.000000</td>\n",
       "      <td>37.000000</td>\n",
       "      <td>0.0</td>\n",
       "      <td>0.000000</td>\n",
       "      <td>0.000000</td>\n",
       "      <td>10.000000</td>\n",
       "      <td>0.000000</td>\n",
       "      <td>10.000000</td>\n",
       "    </tr>\n",
       "    <tr>\n",
       "      <th>25%</th>\n",
       "      <td>2.502134e+06</td>\n",
       "      <td>1.000000</td>\n",
       "      <td>53.000000</td>\n",
       "      <td>122.000000</td>\n",
       "      <td>74.000000</td>\n",
       "      <td>0.000000</td>\n",
       "      <td>0.000000</td>\n",
       "      <td>0.000000</td>\n",
       "      <td>1.000000</td>\n",
       "      <td>207.000000</td>\n",
       "      <td>...</td>\n",
       "      <td>23.170000</td>\n",
       "      <td>78.000000</td>\n",
       "      <td>0.000000</td>\n",
       "      <td>70.000000</td>\n",
       "      <td>0.0</td>\n",
       "      <td>0.000000</td>\n",
       "      <td>0.000000</td>\n",
       "      <td>3677.000000</td>\n",
       "      <td>0.000000</td>\n",
       "      <td>4305.000000</td>\n",
       "    </tr>\n",
       "    <tr>\n",
       "      <th>50%</th>\n",
       "      <td>5.010245e+06</td>\n",
       "      <td>2.000000</td>\n",
       "      <td>59.000000</td>\n",
       "      <td>136.000000</td>\n",
       "      <td>80.500000</td>\n",
       "      <td>0.000000</td>\n",
       "      <td>0.000000</td>\n",
       "      <td>0.000000</td>\n",
       "      <td>2.000000</td>\n",
       "      <td>236.005889</td>\n",
       "      <td>...</td>\n",
       "      <td>25.460000</td>\n",
       "      <td>88.000000</td>\n",
       "      <td>0.000000</td>\n",
       "      <td>76.000000</td>\n",
       "      <td>0.0</td>\n",
       "      <td>0.000000</td>\n",
       "      <td>0.000000</td>\n",
       "      <td>4371.000000</td>\n",
       "      <td>0.000000</td>\n",
       "      <td>4384.000000</td>\n",
       "    </tr>\n",
       "    <tr>\n",
       "      <th>75%</th>\n",
       "      <td>7.463442e+06</td>\n",
       "      <td>2.000000</td>\n",
       "      <td>67.000000</td>\n",
       "      <td>153.000000</td>\n",
       "      <td>89.000000</td>\n",
       "      <td>0.141773</td>\n",
       "      <td>1.000000</td>\n",
       "      <td>10.000000</td>\n",
       "      <td>3.000000</td>\n",
       "      <td>261.000000</td>\n",
       "      <td>...</td>\n",
       "      <td>28.030000</td>\n",
       "      <td>92.000000</td>\n",
       "      <td>0.000000</td>\n",
       "      <td>85.000000</td>\n",
       "      <td>0.0</td>\n",
       "      <td>0.000000</td>\n",
       "      <td>0.000000</td>\n",
       "      <td>4427.000000</td>\n",
       "      <td>0.000000</td>\n",
       "      <td>4434.000000</td>\n",
       "    </tr>\n",
       "    <tr>\n",
       "      <th>max</th>\n",
       "      <td>9.999312e+06</td>\n",
       "      <td>2.000000</td>\n",
       "      <td>81.000000</td>\n",
       "      <td>267.000000</td>\n",
       "      <td>130.000000</td>\n",
       "      <td>1.000000</td>\n",
       "      <td>1.000000</td>\n",
       "      <td>80.000000</td>\n",
       "      <td>4.000000</td>\n",
       "      <td>462.000000</td>\n",
       "      <td>...</td>\n",
       "      <td>48.640000</td>\n",
       "      <td>423.000000</td>\n",
       "      <td>1.000000</td>\n",
       "      <td>150.000000</td>\n",
       "      <td>0.0</td>\n",
       "      <td>1.000000</td>\n",
       "      <td>1.000000</td>\n",
       "      <td>5018.000000</td>\n",
       "      <td>1.000000</td>\n",
       "      <td>5018.000000</td>\n",
       "    </tr>\n",
       "  </tbody>\n",
       "</table>\n",
       "<p>8 rows × 22 columns</p>\n",
       "</div>"
      ],
      "text/plain": [
       "             RandID          Sex          Age        SysBP        DiaBP  \\\n",
       "count  2.903000e+03  2903.000000  2903.000000  2903.000000  2903.000000   \n",
       "mean   5.008319e+06     1.591113    60.105408   139.286256    81.733551   \n",
       "std    2.887748e+06     0.491713     8.222730    22.515701    11.058007   \n",
       "min    2.448000e+03     1.000000    44.000000    86.000000    37.000000   \n",
       "25%    2.502134e+06     1.000000    53.000000   122.000000    74.000000   \n",
       "50%    5.010245e+06     2.000000    59.000000   136.000000    80.500000   \n",
       "75%    7.463442e+06     2.000000    67.000000   153.000000    89.000000   \n",
       "max    9.999312e+06     2.000000    81.000000   267.000000   130.000000   \n",
       "\n",
       "            BPMeds     Cursmoke      Cigpday         Educ      Totchol  \\\n",
       "count  2903.000000  2903.000000  2903.000000  2903.000000  2903.000000   \n",
       "mean      0.141773     0.350327     6.908714     2.028622   236.005889   \n",
       "std       0.324016     0.477155    11.671206     1.010742    41.798794   \n",
       "min       0.000000     0.000000     0.000000     1.000000   112.000000   \n",
       "25%       0.000000     0.000000     0.000000     1.000000   207.000000   \n",
       "50%       0.000000     0.000000     0.000000     2.000000   236.005889   \n",
       "75%       0.141773     1.000000    10.000000     3.000000   261.000000   \n",
       "max       1.000000     1.000000    80.000000     4.000000   462.000000   \n",
       "\n",
       "          ...               BMI      Glucose     Diabetes    HeartRate  \\\n",
       "count     ...       2903.000000  2903.000000  2903.000000  2903.000000   \n",
       "mean      ...         25.855559    88.995428     0.066827    77.329079   \n",
       "std       ...          4.014010    22.430572     0.249766    12.342349   \n",
       "min       ...         14.430000    46.000000     0.000000    37.000000   \n",
       "25%       ...         23.170000    78.000000     0.000000    70.000000   \n",
       "50%       ...         25.460000    88.000000     0.000000    76.000000   \n",
       "75%       ...         28.030000    92.000000     0.000000    85.000000   \n",
       "max       ...         48.640000   423.000000     1.000000   150.000000   \n",
       "\n",
       "       PrevAP     PrevStrk       AnyCHD      TimeCHD        Death    TimeDeath  \n",
       "count  2903.0  2903.000000  2903.000000  2903.000000  2903.000000  2903.000000  \n",
       "mean      0.0     0.016879     0.167757  3766.028247     0.200482  4011.496728  \n",
       "std       0.0     0.128841     0.373715  1199.199053     0.400430   970.169442  \n",
       "min       0.0     0.000000     0.000000    10.000000     0.000000    10.000000  \n",
       "25%       0.0     0.000000     0.000000  3677.000000     0.000000  4305.000000  \n",
       "50%       0.0     0.000000     0.000000  4371.000000     0.000000  4384.000000  \n",
       "75%       0.0     0.000000     0.000000  4427.000000     0.000000  4434.000000  \n",
       "max       0.0     1.000000     1.000000  5018.000000     1.000000  5018.000000  \n",
       "\n",
       "[8 rows x 22 columns]"
      ]
     },
     "execution_count": 11,
     "metadata": {},
     "output_type": "execute_result"
    }
   ],
   "source": [
    "filledFh.head(10)\n",
    "filledFh.describe()\n"
   ]
  },
  {
   "cell_type": "code",
   "execution_count": 12,
   "metadata": {},
   "outputs": [],
   "source": [
    "fh = filledFh"
   ]
  },
  {
   "cell_type": "code",
   "execution_count": 13,
   "metadata": {},
   "outputs": [
    {
     "data": {
      "text/html": [
       "<div>\n",
       "<style scoped>\n",
       "    .dataframe tbody tr th:only-of-type {\n",
       "        vertical-align: middle;\n",
       "    }\n",
       "\n",
       "    .dataframe tbody tr th {\n",
       "        vertical-align: top;\n",
       "    }\n",
       "\n",
       "    .dataframe thead th {\n",
       "        text-align: right;\n",
       "    }\n",
       "</style>\n",
       "<table border=\"1\" class=\"dataframe\">\n",
       "  <thead>\n",
       "    <tr style=\"text-align: right;\">\n",
       "      <th></th>\n",
       "      <th>RandID</th>\n",
       "      <th>Sex</th>\n",
       "      <th>Age</th>\n",
       "      <th>SysBP</th>\n",
       "      <th>DiaBP</th>\n",
       "      <th>BPMeds</th>\n",
       "      <th>Cursmoke</th>\n",
       "      <th>Cigpday</th>\n",
       "      <th>Educ</th>\n",
       "      <th>Totchol</th>\n",
       "      <th>...</th>\n",
       "      <th>BMI</th>\n",
       "      <th>Glucose</th>\n",
       "      <th>Diabetes</th>\n",
       "      <th>HeartRate</th>\n",
       "      <th>PrevAP</th>\n",
       "      <th>PrevStrk</th>\n",
       "      <th>AnyCHD</th>\n",
       "      <th>TimeCHD</th>\n",
       "      <th>Death</th>\n",
       "      <th>TimeDeath</th>\n",
       "    </tr>\n",
       "  </thead>\n",
       "  <tbody>\n",
       "    <tr>\n",
       "      <th>0</th>\n",
       "      <td>2448.0</td>\n",
       "      <td>1.0</td>\n",
       "      <td>52.0</td>\n",
       "      <td>121.0</td>\n",
       "      <td>66.0</td>\n",
       "      <td>0.000000</td>\n",
       "      <td>0.0</td>\n",
       "      <td>0.0</td>\n",
       "      <td>4.0</td>\n",
       "      <td>209.000000</td>\n",
       "      <td>...</td>\n",
       "      <td>25.855559</td>\n",
       "      <td>92.000000</td>\n",
       "      <td>0.0</td>\n",
       "      <td>69.0</td>\n",
       "      <td>0.0</td>\n",
       "      <td>0.0</td>\n",
       "      <td>1.0</td>\n",
       "      <td>1810.0</td>\n",
       "      <td>0.0</td>\n",
       "      <td>4138.0</td>\n",
       "    </tr>\n",
       "    <tr>\n",
       "      <th>1</th>\n",
       "      <td>6238.0</td>\n",
       "      <td>2.0</td>\n",
       "      <td>58.0</td>\n",
       "      <td>108.0</td>\n",
       "      <td>66.0</td>\n",
       "      <td>0.000000</td>\n",
       "      <td>0.0</td>\n",
       "      <td>0.0</td>\n",
       "      <td>2.0</td>\n",
       "      <td>237.000000</td>\n",
       "      <td>...</td>\n",
       "      <td>28.500000</td>\n",
       "      <td>71.000000</td>\n",
       "      <td>0.0</td>\n",
       "      <td>80.0</td>\n",
       "      <td>0.0</td>\n",
       "      <td>0.0</td>\n",
       "      <td>0.0</td>\n",
       "      <td>4422.0</td>\n",
       "      <td>0.0</td>\n",
       "      <td>4422.0</td>\n",
       "    </tr>\n",
       "    <tr>\n",
       "      <th>2</th>\n",
       "      <td>11252.0</td>\n",
       "      <td>2.0</td>\n",
       "      <td>58.0</td>\n",
       "      <td>155.0</td>\n",
       "      <td>90.0</td>\n",
       "      <td>0.000000</td>\n",
       "      <td>1.0</td>\n",
       "      <td>30.0</td>\n",
       "      <td>3.0</td>\n",
       "      <td>236.005889</td>\n",
       "      <td>...</td>\n",
       "      <td>24.610000</td>\n",
       "      <td>88.995428</td>\n",
       "      <td>0.0</td>\n",
       "      <td>74.0</td>\n",
       "      <td>0.0</td>\n",
       "      <td>0.0</td>\n",
       "      <td>0.0</td>\n",
       "      <td>4481.0</td>\n",
       "      <td>0.0</td>\n",
       "      <td>4481.0</td>\n",
       "    </tr>\n",
       "    <tr>\n",
       "      <th>3</th>\n",
       "      <td>11263.0</td>\n",
       "      <td>2.0</td>\n",
       "      <td>55.0</td>\n",
       "      <td>180.0</td>\n",
       "      <td>106.0</td>\n",
       "      <td>1.000000</td>\n",
       "      <td>0.0</td>\n",
       "      <td>0.0</td>\n",
       "      <td>2.0</td>\n",
       "      <td>220.000000</td>\n",
       "      <td>...</td>\n",
       "      <td>31.170000</td>\n",
       "      <td>81.000000</td>\n",
       "      <td>1.0</td>\n",
       "      <td>86.0</td>\n",
       "      <td>0.0</td>\n",
       "      <td>0.0</td>\n",
       "      <td>1.0</td>\n",
       "      <td>1368.0</td>\n",
       "      <td>0.0</td>\n",
       "      <td>4415.0</td>\n",
       "    </tr>\n",
       "    <tr>\n",
       "      <th>4</th>\n",
       "      <td>12806.0</td>\n",
       "      <td>2.0</td>\n",
       "      <td>57.0</td>\n",
       "      <td>110.0</td>\n",
       "      <td>46.0</td>\n",
       "      <td>0.000000</td>\n",
       "      <td>1.0</td>\n",
       "      <td>30.0</td>\n",
       "      <td>2.0</td>\n",
       "      <td>320.000000</td>\n",
       "      <td>...</td>\n",
       "      <td>22.020000</td>\n",
       "      <td>87.000000</td>\n",
       "      <td>0.0</td>\n",
       "      <td>75.0</td>\n",
       "      <td>0.0</td>\n",
       "      <td>0.0</td>\n",
       "      <td>0.0</td>\n",
       "      <td>4477.0</td>\n",
       "      <td>0.0</td>\n",
       "      <td>4477.0</td>\n",
       "    </tr>\n",
       "    <tr>\n",
       "      <th>5</th>\n",
       "      <td>14367.0</td>\n",
       "      <td>1.0</td>\n",
       "      <td>64.0</td>\n",
       "      <td>168.0</td>\n",
       "      <td>100.0</td>\n",
       "      <td>0.000000</td>\n",
       "      <td>0.0</td>\n",
       "      <td>0.0</td>\n",
       "      <td>1.0</td>\n",
       "      <td>280.000000</td>\n",
       "      <td>...</td>\n",
       "      <td>25.720000</td>\n",
       "      <td>82.000000</td>\n",
       "      <td>0.0</td>\n",
       "      <td>92.0</td>\n",
       "      <td>0.0</td>\n",
       "      <td>0.0</td>\n",
       "      <td>0.0</td>\n",
       "      <td>4328.0</td>\n",
       "      <td>0.0</td>\n",
       "      <td>4328.0</td>\n",
       "    </tr>\n",
       "    <tr>\n",
       "      <th>6</th>\n",
       "      <td>16365.0</td>\n",
       "      <td>1.0</td>\n",
       "      <td>55.0</td>\n",
       "      <td>173.0</td>\n",
       "      <td>123.0</td>\n",
       "      <td>1.000000</td>\n",
       "      <td>0.0</td>\n",
       "      <td>0.0</td>\n",
       "      <td>1.0</td>\n",
       "      <td>211.000000</td>\n",
       "      <td>...</td>\n",
       "      <td>29.110000</td>\n",
       "      <td>85.000000</td>\n",
       "      <td>0.0</td>\n",
       "      <td>75.0</td>\n",
       "      <td>0.0</td>\n",
       "      <td>0.0</td>\n",
       "      <td>0.0</td>\n",
       "      <td>4398.0</td>\n",
       "      <td>0.0</td>\n",
       "      <td>4398.0</td>\n",
       "    </tr>\n",
       "    <tr>\n",
       "      <th>7</th>\n",
       "      <td>16799.0</td>\n",
       "      <td>2.0</td>\n",
       "      <td>62.0</td>\n",
       "      <td>120.0</td>\n",
       "      <td>70.0</td>\n",
       "      <td>0.141773</td>\n",
       "      <td>0.0</td>\n",
       "      <td>0.0</td>\n",
       "      <td>1.0</td>\n",
       "      <td>291.000000</td>\n",
       "      <td>...</td>\n",
       "      <td>21.980000</td>\n",
       "      <td>83.000000</td>\n",
       "      <td>0.0</td>\n",
       "      <td>62.0</td>\n",
       "      <td>0.0</td>\n",
       "      <td>0.0</td>\n",
       "      <td>0.0</td>\n",
       "      <td>4335.0</td>\n",
       "      <td>0.0</td>\n",
       "      <td>4335.0</td>\n",
       "    </tr>\n",
       "    <tr>\n",
       "      <th>8</th>\n",
       "      <td>23727.0</td>\n",
       "      <td>2.0</td>\n",
       "      <td>53.0</td>\n",
       "      <td>124.0</td>\n",
       "      <td>78.0</td>\n",
       "      <td>0.000000</td>\n",
       "      <td>0.0</td>\n",
       "      <td>0.0</td>\n",
       "      <td>3.0</td>\n",
       "      <td>159.000000</td>\n",
       "      <td>...</td>\n",
       "      <td>26.620000</td>\n",
       "      <td>135.000000</td>\n",
       "      <td>0.0</td>\n",
       "      <td>68.0</td>\n",
       "      <td>0.0</td>\n",
       "      <td>0.0</td>\n",
       "      <td>0.0</td>\n",
       "      <td>1089.0</td>\n",
       "      <td>1.0</td>\n",
       "      <td>1089.0</td>\n",
       "    </tr>\n",
       "    <tr>\n",
       "      <th>9</th>\n",
       "      <td>24721.0</td>\n",
       "      <td>2.0</td>\n",
       "      <td>51.0</td>\n",
       "      <td>141.0</td>\n",
       "      <td>81.0</td>\n",
       "      <td>0.000000</td>\n",
       "      <td>1.0</td>\n",
       "      <td>15.0</td>\n",
       "      <td>2.0</td>\n",
       "      <td>264.000000</td>\n",
       "      <td>...</td>\n",
       "      <td>24.770000</td>\n",
       "      <td>97.000000</td>\n",
       "      <td>0.0</td>\n",
       "      <td>85.0</td>\n",
       "      <td>0.0</td>\n",
       "      <td>0.0</td>\n",
       "      <td>0.0</td>\n",
       "      <td>2003.0</td>\n",
       "      <td>1.0</td>\n",
       "      <td>2003.0</td>\n",
       "    </tr>\n",
       "  </tbody>\n",
       "</table>\n",
       "<p>10 rows × 22 columns</p>\n",
       "</div>"
      ],
      "text/plain": [
       "    RandID  Sex   Age  SysBP  DiaBP    BPMeds  Cursmoke  Cigpday  Educ  \\\n",
       "0   2448.0  1.0  52.0  121.0   66.0  0.000000       0.0      0.0   4.0   \n",
       "1   6238.0  2.0  58.0  108.0   66.0  0.000000       0.0      0.0   2.0   \n",
       "2  11252.0  2.0  58.0  155.0   90.0  0.000000       1.0     30.0   3.0   \n",
       "3  11263.0  2.0  55.0  180.0  106.0  1.000000       0.0      0.0   2.0   \n",
       "4  12806.0  2.0  57.0  110.0   46.0  0.000000       1.0     30.0   2.0   \n",
       "5  14367.0  1.0  64.0  168.0  100.0  0.000000       0.0      0.0   1.0   \n",
       "6  16365.0  1.0  55.0  173.0  123.0  1.000000       0.0      0.0   1.0   \n",
       "7  16799.0  2.0  62.0  120.0   70.0  0.141773       0.0      0.0   1.0   \n",
       "8  23727.0  2.0  53.0  124.0   78.0  0.000000       0.0      0.0   3.0   \n",
       "9  24721.0  2.0  51.0  141.0   81.0  0.000000       1.0     15.0   2.0   \n",
       "\n",
       "      Totchol    ...            BMI     Glucose  Diabetes  HeartRate  PrevAP  \\\n",
       "0  209.000000    ...      25.855559   92.000000       0.0       69.0     0.0   \n",
       "1  237.000000    ...      28.500000   71.000000       0.0       80.0     0.0   \n",
       "2  236.005889    ...      24.610000   88.995428       0.0       74.0     0.0   \n",
       "3  220.000000    ...      31.170000   81.000000       1.0       86.0     0.0   \n",
       "4  320.000000    ...      22.020000   87.000000       0.0       75.0     0.0   \n",
       "5  280.000000    ...      25.720000   82.000000       0.0       92.0     0.0   \n",
       "6  211.000000    ...      29.110000   85.000000       0.0       75.0     0.0   \n",
       "7  291.000000    ...      21.980000   83.000000       0.0       62.0     0.0   \n",
       "8  159.000000    ...      26.620000  135.000000       0.0       68.0     0.0   \n",
       "9  264.000000    ...      24.770000   97.000000       0.0       85.0     0.0   \n",
       "\n",
       "   PrevStrk  AnyCHD  TimeCHD  Death  TimeDeath  \n",
       "0       0.0     1.0   1810.0    0.0     4138.0  \n",
       "1       0.0     0.0   4422.0    0.0     4422.0  \n",
       "2       0.0     0.0   4481.0    0.0     4481.0  \n",
       "3       0.0     1.0   1368.0    0.0     4415.0  \n",
       "4       0.0     0.0   4477.0    0.0     4477.0  \n",
       "5       0.0     0.0   4328.0    0.0     4328.0  \n",
       "6       0.0     0.0   4398.0    0.0     4398.0  \n",
       "7       0.0     0.0   4335.0    0.0     4335.0  \n",
       "8       0.0     0.0   1089.0    1.0     1089.0  \n",
       "9       0.0     0.0   2003.0    1.0     2003.0  \n",
       "\n",
       "[10 rows x 22 columns]"
      ]
     },
     "execution_count": 13,
     "metadata": {},
     "output_type": "execute_result"
    }
   ],
   "source": [
    "fh.head(10)"
   ]
  },
  {
   "cell_type": "code",
   "execution_count": 24,
   "metadata": {},
   "outputs": [
    {
     "data": {
      "text/html": [
       "<div>\n",
       "<style scoped>\n",
       "    .dataframe tbody tr th:only-of-type {\n",
       "        vertical-align: middle;\n",
       "    }\n",
       "\n",
       "    .dataframe tbody tr th {\n",
       "        vertical-align: top;\n",
       "    }\n",
       "\n",
       "    .dataframe thead th {\n",
       "        text-align: right;\n",
       "    }\n",
       "</style>\n",
       "<table border=\"1\" class=\"dataframe\">\n",
       "  <thead>\n",
       "    <tr style=\"text-align: right;\">\n",
       "      <th></th>\n",
       "      <th>RandID</th>\n",
       "      <th>Sex</th>\n",
       "      <th>Age</th>\n",
       "      <th>SysBP</th>\n",
       "      <th>DiaBP</th>\n",
       "      <th>BPMeds</th>\n",
       "      <th>Cursmoke</th>\n",
       "      <th>Cigpday</th>\n",
       "      <th>Educ</th>\n",
       "      <th>Totchol</th>\n",
       "      <th>HDLC</th>\n",
       "      <th>LDLC</th>\n",
       "      <th>BMI</th>\n",
       "      <th>Glucose</th>\n",
       "      <th>Diabetes</th>\n",
       "      <th>HeartRate</th>\n",
       "      <th>PrevAP</th>\n",
       "      <th>PrevStrk</th>\n",
       "    </tr>\n",
       "  </thead>\n",
       "  <tbody>\n",
       "    <tr>\n",
       "      <th>count</th>\n",
       "      <td>2.903000e+03</td>\n",
       "      <td>2903.000000</td>\n",
       "      <td>2903.000000</td>\n",
       "      <td>2903.000000</td>\n",
       "      <td>2903.000000</td>\n",
       "      <td>2903.000000</td>\n",
       "      <td>2903.000000</td>\n",
       "      <td>2903.000000</td>\n",
       "      <td>2903.000000</td>\n",
       "      <td>2903.000000</td>\n",
       "      <td>2903.000000</td>\n",
       "      <td>2903.000000</td>\n",
       "      <td>2903.000000</td>\n",
       "      <td>2903.000000</td>\n",
       "      <td>2903.000000</td>\n",
       "      <td>2903.000000</td>\n",
       "      <td>2903.0</td>\n",
       "      <td>2903.000000</td>\n",
       "    </tr>\n",
       "    <tr>\n",
       "      <th>mean</th>\n",
       "      <td>5.008319e+06</td>\n",
       "      <td>1.591113</td>\n",
       "      <td>60.105408</td>\n",
       "      <td>139.286256</td>\n",
       "      <td>81.733551</td>\n",
       "      <td>0.141773</td>\n",
       "      <td>0.350327</td>\n",
       "      <td>6.908714</td>\n",
       "      <td>2.028622</td>\n",
       "      <td>236.005889</td>\n",
       "      <td>49.926585</td>\n",
       "      <td>175.540801</td>\n",
       "      <td>25.855559</td>\n",
       "      <td>88.995428</td>\n",
       "      <td>0.066827</td>\n",
       "      <td>77.329079</td>\n",
       "      <td>0.0</td>\n",
       "      <td>0.016879</td>\n",
       "    </tr>\n",
       "    <tr>\n",
       "      <th>std</th>\n",
       "      <td>2.887748e+06</td>\n",
       "      <td>0.491713</td>\n",
       "      <td>8.222730</td>\n",
       "      <td>22.515701</td>\n",
       "      <td>11.058007</td>\n",
       "      <td>0.324016</td>\n",
       "      <td>0.477155</td>\n",
       "      <td>11.671206</td>\n",
       "      <td>1.010742</td>\n",
       "      <td>41.798794</td>\n",
       "      <td>15.079635</td>\n",
       "      <td>43.999058</td>\n",
       "      <td>4.014010</td>\n",
       "      <td>22.430572</td>\n",
       "      <td>0.249766</td>\n",
       "      <td>12.342349</td>\n",
       "      <td>0.0</td>\n",
       "      <td>0.128841</td>\n",
       "    </tr>\n",
       "    <tr>\n",
       "      <th>min</th>\n",
       "      <td>2.448000e+03</td>\n",
       "      <td>1.000000</td>\n",
       "      <td>44.000000</td>\n",
       "      <td>86.000000</td>\n",
       "      <td>37.000000</td>\n",
       "      <td>0.000000</td>\n",
       "      <td>0.000000</td>\n",
       "      <td>0.000000</td>\n",
       "      <td>1.000000</td>\n",
       "      <td>112.000000</td>\n",
       "      <td>10.000000</td>\n",
       "      <td>20.000000</td>\n",
       "      <td>14.430000</td>\n",
       "      <td>46.000000</td>\n",
       "      <td>0.000000</td>\n",
       "      <td>37.000000</td>\n",
       "      <td>0.0</td>\n",
       "      <td>0.000000</td>\n",
       "    </tr>\n",
       "    <tr>\n",
       "      <th>25%</th>\n",
       "      <td>2.502134e+06</td>\n",
       "      <td>1.000000</td>\n",
       "      <td>53.000000</td>\n",
       "      <td>122.000000</td>\n",
       "      <td>74.000000</td>\n",
       "      <td>0.000000</td>\n",
       "      <td>0.000000</td>\n",
       "      <td>0.000000</td>\n",
       "      <td>1.000000</td>\n",
       "      <td>207.000000</td>\n",
       "      <td>40.000000</td>\n",
       "      <td>147.000000</td>\n",
       "      <td>23.170000</td>\n",
       "      <td>78.000000</td>\n",
       "      <td>0.000000</td>\n",
       "      <td>70.000000</td>\n",
       "      <td>0.0</td>\n",
       "      <td>0.000000</td>\n",
       "    </tr>\n",
       "    <tr>\n",
       "      <th>50%</th>\n",
       "      <td>5.010245e+06</td>\n",
       "      <td>2.000000</td>\n",
       "      <td>59.000000</td>\n",
       "      <td>136.000000</td>\n",
       "      <td>80.500000</td>\n",
       "      <td>0.000000</td>\n",
       "      <td>0.000000</td>\n",
       "      <td>0.000000</td>\n",
       "      <td>2.000000</td>\n",
       "      <td>236.005889</td>\n",
       "      <td>49.926585</td>\n",
       "      <td>175.540801</td>\n",
       "      <td>25.460000</td>\n",
       "      <td>88.000000</td>\n",
       "      <td>0.000000</td>\n",
       "      <td>76.000000</td>\n",
       "      <td>0.0</td>\n",
       "      <td>0.000000</td>\n",
       "    </tr>\n",
       "    <tr>\n",
       "      <th>75%</th>\n",
       "      <td>7.463442e+06</td>\n",
       "      <td>2.000000</td>\n",
       "      <td>67.000000</td>\n",
       "      <td>153.000000</td>\n",
       "      <td>89.000000</td>\n",
       "      <td>0.141773</td>\n",
       "      <td>1.000000</td>\n",
       "      <td>10.000000</td>\n",
       "      <td>3.000000</td>\n",
       "      <td>261.000000</td>\n",
       "      <td>57.000000</td>\n",
       "      <td>201.000000</td>\n",
       "      <td>28.030000</td>\n",
       "      <td>92.000000</td>\n",
       "      <td>0.000000</td>\n",
       "      <td>85.000000</td>\n",
       "      <td>0.0</td>\n",
       "      <td>0.000000</td>\n",
       "    </tr>\n",
       "    <tr>\n",
       "      <th>max</th>\n",
       "      <td>9.999312e+06</td>\n",
       "      <td>2.000000</td>\n",
       "      <td>81.000000</td>\n",
       "      <td>267.000000</td>\n",
       "      <td>130.000000</td>\n",
       "      <td>1.000000</td>\n",
       "      <td>1.000000</td>\n",
       "      <td>80.000000</td>\n",
       "      <td>4.000000</td>\n",
       "      <td>462.000000</td>\n",
       "      <td>189.000000</td>\n",
       "      <td>428.000000</td>\n",
       "      <td>48.640000</td>\n",
       "      <td>423.000000</td>\n",
       "      <td>1.000000</td>\n",
       "      <td>150.000000</td>\n",
       "      <td>0.0</td>\n",
       "      <td>1.000000</td>\n",
       "    </tr>\n",
       "  </tbody>\n",
       "</table>\n",
       "</div>"
      ],
      "text/plain": [
       "             RandID          Sex          Age        SysBP        DiaBP  \\\n",
       "count  2.903000e+03  2903.000000  2903.000000  2903.000000  2903.000000   \n",
       "mean   5.008319e+06     1.591113    60.105408   139.286256    81.733551   \n",
       "std    2.887748e+06     0.491713     8.222730    22.515701    11.058007   \n",
       "min    2.448000e+03     1.000000    44.000000    86.000000    37.000000   \n",
       "25%    2.502134e+06     1.000000    53.000000   122.000000    74.000000   \n",
       "50%    5.010245e+06     2.000000    59.000000   136.000000    80.500000   \n",
       "75%    7.463442e+06     2.000000    67.000000   153.000000    89.000000   \n",
       "max    9.999312e+06     2.000000    81.000000   267.000000   130.000000   \n",
       "\n",
       "            BPMeds     Cursmoke      Cigpday         Educ      Totchol  \\\n",
       "count  2903.000000  2903.000000  2903.000000  2903.000000  2903.000000   \n",
       "mean      0.141773     0.350327     6.908714     2.028622   236.005889   \n",
       "std       0.324016     0.477155    11.671206     1.010742    41.798794   \n",
       "min       0.000000     0.000000     0.000000     1.000000   112.000000   \n",
       "25%       0.000000     0.000000     0.000000     1.000000   207.000000   \n",
       "50%       0.000000     0.000000     0.000000     2.000000   236.005889   \n",
       "75%       0.141773     1.000000    10.000000     3.000000   261.000000   \n",
       "max       1.000000     1.000000    80.000000     4.000000   462.000000   \n",
       "\n",
       "              HDLC         LDLC          BMI      Glucose     Diabetes  \\\n",
       "count  2903.000000  2903.000000  2903.000000  2903.000000  2903.000000   \n",
       "mean     49.926585   175.540801    25.855559    88.995428     0.066827   \n",
       "std      15.079635    43.999058     4.014010    22.430572     0.249766   \n",
       "min      10.000000    20.000000    14.430000    46.000000     0.000000   \n",
       "25%      40.000000   147.000000    23.170000    78.000000     0.000000   \n",
       "50%      49.926585   175.540801    25.460000    88.000000     0.000000   \n",
       "75%      57.000000   201.000000    28.030000    92.000000     0.000000   \n",
       "max     189.000000   428.000000    48.640000   423.000000     1.000000   \n",
       "\n",
       "         HeartRate  PrevAP     PrevStrk  \n",
       "count  2903.000000  2903.0  2903.000000  \n",
       "mean     77.329079     0.0     0.016879  \n",
       "std      12.342349     0.0     0.128841  \n",
       "min      37.000000     0.0     0.000000  \n",
       "25%      70.000000     0.0     0.000000  \n",
       "50%      76.000000     0.0     0.000000  \n",
       "75%      85.000000     0.0     0.000000  \n",
       "max     150.000000     0.0     1.000000  "
      ]
     },
     "execution_count": 24,
     "metadata": {},
     "output_type": "execute_result"
    }
   ],
   "source": [
    "fh.describe()\n",
    "observations = pd.DataFrame(data= fh.drop([\"AnyCHD\",\"Death\", \"TimeCHD\",\"TimeDeath\"], axis =1))\n",
    "observations.describe()"
   ]
  },
  {
   "cell_type": "code",
   "execution_count": null,
   "metadata": {
    "scrolled": true
   },
   "outputs": [],
   "source": []
  },
  {
   "cell_type": "code",
   "execution_count": null,
   "metadata": {},
   "outputs": [],
   "source": []
  },
  {
   "cell_type": "code",
   "execution_count": null,
   "metadata": {},
   "outputs": [],
   "source": []
  },
  {
   "cell_type": "code",
   "execution_count": null,
   "metadata": {},
   "outputs": [],
   "source": []
  },
  {
   "cell_type": "code",
   "execution_count": 26,
   "metadata": {},
   "outputs": [],
   "source": [
    "quantitativeObserved = pd.DataFrame(data= observations.drop([\"RandID\",\"Sex\",\"BPMeds\", \"Cursmoke\",\"Educ\",\"Diabetes\", \"PrevAP\", \"PrevStrk\"], axis =1))"
   ]
  },
  {
   "cell_type": "code",
   "execution_count": 27,
   "metadata": {
    "scrolled": true
   },
   "outputs": [
    {
     "data": {
      "image/png": "[encoded data removed]",
      "text/plain": [
       "<Figure size 432x288 with 1 Axes>"
      ]
     },
     "metadata": {
      "needs_background": "light"
     },
     "output_type": "display_data"
    },
    {
     "data": {
      "image/png": "[encoded data removed]",
      "text/plain": [
       "<Figure size 432x288 with 1 Axes>"
      ]
     },
     "metadata": {
      "needs_background": "light"
     },
     "output_type": "display_data"
    },
    {
     "data": {
      "image/png": "[encoded data removed]",
      "text/plain": [
       "<Figure size 432x288 with 1 Axes>"
      ]
     },
     "metadata": {
      "needs_background": "light"
     },
     "output_type": "display_data"
    },
    {
     "data": {
      "image/png": "[encoded data removed]",
      "text/plain": [
       "<Figure size 432x288 with 1 Axes>"
      ]
     },
     "metadata": {
      "needs_background": "light"
     },
     "output_type": "display_data"
    },
    {
     "data": {
      "image/png": "[encoded data removed]",
      "text/plain": [
       "<Figure size 432x288 with 1 Axes>"
      ]
     },
     "metadata": {
      "needs_background": "light"
     },
     "output_type": "display_data"
    },
    {
     "data": {
      "image/png": "[encoded data removed]",
      "text/plain": [
       "<Figure size 432x288 with 1 Axes>"
      ]
     },
     "metadata": {
      "needs_background": "light"
     },
     "output_type": "display_data"
    },
    {
     "data": {
      "image/png": "[encoded data removed]",
      "text/plain": [
       "<Figure size 432x288 with 1 Axes>"
      ]
     },
     "metadata": {
      "needs_background": "light"
     },
     "output_type": "display_data"
    },
    {
     "data": {
      "image/png": "[encoded data removed]",
      "text/plain": [
       "<Figure size 432x288 with 1 Axes>"
      ]
     },
     "metadata": {
      "needs_background": "light"
     },
     "output_type": "display_data"
    },
    {
     "data": {
      "image/png": "[encoded data removed]",
      "text/plain": [
       "<Figure size 432x288 with 1 Axes>"
      ]
     },
     "metadata": {
      "needs_background": "light"
     },
     "output_type": "display_data"
    },
    {
     "data": {
      "image/png": "[encoded data removed]",
      "text/plain": [
       "<Figure size 432x288 with 1 Axes>"
      ]
     },
     "metadata": {
      "needs_background": "light"
     },
     "output_type": "display_data"
    },
    {
     "data": {
      "image/png": "[encoded data removed]",
      "text/plain": [
       "<Figure size 432x288 with 1 Axes>"
      ]
     },
     "metadata": {
      "needs_background": "light"
     },
     "output_type": "display_data"
    },
    {
     "data": {
      "image/png": "[encoded data removed]",
      "text/plain": [
       "<Figure size 432x288 with 1 Axes>"
      ]
     },
     "metadata": {
      "needs_background": "light"
     },
     "output_type": "display_data"
    },
    {
     "data": {
      "image/png": "[encoded data removed]",
      "text/plain": [
       "<Figure size 432x288 with 1 Axes>"
      ]
     },
     "metadata": {
      "needs_background": "light"
     },
     "output_type": "display_data"
    },
    {
     "data": {
      "image/png": "[encoded data removed]",
      "text/plain": [
       "<Figure size 432x288 with 1 Axes>"
      ]
     },
     "metadata": {
      "needs_background": "light"
     },
     "output_type": "display_data"
    },
    {
     "data": {
      "image/png": "[encoded data removed]",
      "text/plain": [
       "<Figure size 432x288 with 1 Axes>"
      ]
     },
     "metadata": {
      "needs_background": "light"
     },
     "output_type": "display_data"
    },
    {
     "data": {
      "image/png": "[encoded data removed]",
      "text/plain": [
       "<Figure size 432x288 with 1 Axes>"
      ]
     },
     "metadata": {
      "needs_background": "light"
     },
     "output_type": "display_data"
    },
    {
     "data": {
      "image/png": "[encoded data removed]",
      "text/plain": [
       "<Figure size 432x288 with 1 Axes>"
      ]
     },
     "metadata": {
      "needs_background": "light"
     },
     "output_type": "display_data"
    },
    {
     "data": {
      "image/png": "[encoded data removed]",
      "text/plain": [
       "<Figure size 432x288 with 1 Axes>"
      ]
     },
     "metadata": {
      "needs_background": "light"
     },
     "output_type": "display_data"
    },
    {
     "data": {
      "image/png": "[encoded data removed]",
      "text/plain": [
       "<Figure size 432x288 with 1 Axes>"
      ]
     },
     "metadata": {
      "needs_background": "light"
     },
     "output_type": "display_data"
    },
    {
     "data": {
      "image/png": "[encoded data removed]",
      "text/plain": [
       "<Figure size 432x288 with 1 Axes>"
      ]
     },
     "metadata": {
      "needs_background": "light"
     },
     "output_type": "display_data"
    }
   ],
   "source": [
    "for column_ in quantitativeObserved:\n",
    "    fh.boxplot(column=column_, by = \"Death\")\n",
    "    fh.boxplot(column=column_, by = \"AnyCHD\")"
   ]
  },
  {
   "cell_type": "code",
   "execution_count": null,
   "metadata": {},
   "outputs": [],
   "source": []
  },
  {
   "cell_type": "markdown",
   "metadata": {},
   "source": [
    "Code used below is from https://github.com/JWarmenhoven/ISLR-python, a github repository where the code and examples from ISLR are programmed in Python, and changed for the exploration of the framingham data set. This was a great help."
   ]
  },
  {
   "cell_type": "markdown",
   "metadata": {},
   "source": [
    "## Logistic Regression"
   ]
  },
  {
   "cell_type": "code",
   "execution_count": 98,
   "metadata": {},
   "outputs": [],
   "source": [
    "x_train, x_test, y_train, y_test = train_test_split(fh.Age, fh.Death, test_size=0.25, random_state=0)"
   ]
  },
  {
   "cell_type": "code",
   "execution_count": 99,
   "metadata": {},
   "outputs": [],
   "source": [
    "lr = skl_lm.LogisticRegression(solver= 'newton-cg', fit_intercept=True)\n",
    "X = [[x] for x in x_train.values]\n",
    "X_test = [[x] for x in x_test.values]"
   ]
  },
  {
   "cell_type": "code",
   "execution_count": 100,
   "metadata": {},
   "outputs": [
    {
     "data": {
      "text/plain": [
       "LogisticRegression(C=1.0, class_weight=None, dual=False, fit_intercept=True,\n",
       "          intercept_scaling=1, max_iter=100, multi_class='ovr', n_jobs=1,\n",
       "          penalty='l2', random_state=None, solver='newton-cg', tol=0.0001,\n",
       "          verbose=0, warm_start=False)"
      ]
     },
     "execution_count": 100,
     "metadata": {},
     "output_type": "execute_result"
    }
   ],
   "source": [
    "lr.fit(X, y_train)"
   ]
  },
  {
   "cell_type": "code",
   "execution_count": 101,
   "metadata": {},
   "outputs": [
    {
     "name": "stdout",
     "output_type": "stream",
     "text": [
      "LogisticRegression(C=1.0, class_weight=None, dual=False, fit_intercept=True,\n",
      "          intercept_scaling=1, max_iter=100, multi_class='ovr', n_jobs=1,\n",
      "          penalty='l2', random_state=None, solver='newton-cg', tol=0.0001,\n",
      "          verbose=0, warm_start=False)\n",
      "[[0.10691066]]\n",
      "[-8.03588754]\n"
     ]
    }
   ],
   "source": [
    "probability_distribution = lr.predict_proba(X_test)\n",
    "#print(probability_distribution)\n",
    "print(lr)\n",
    "print(lr.coef_)\n",
    "print(lr.intercept_)"
   ]
  },
  {
   "cell_type": "code",
   "execution_count": null,
   "metadata": {},
   "outputs": [],
   "source": []
  },
  {
   "cell_type": "code",
   "execution_count": 107,
   "metadata": {
    "collapsed": true
   },
   "outputs": [
    {
     "data": {
      "text/plain": [
       "Text(0.5,0,'Age')"
      ]
     },
     "execution_count": 107,
     "metadata": {},
     "output_type": "execute_result"
    },
    {
     "data": {
      "image/png": "[encoded data removed]",
      "text/plain": [
       "<Figure size 432x360 with 1 Axes>"
      ]
     },
     "metadata": {
      "needs_background": "light"
     },
     "output_type": "display_data"
    }
   ],
   "source": [
    "#import seaborn as seaborn\n",
    "fig, ax1 = plt.subplots(1,  figsize=(6,5))\n",
    "ax1.scatter(X_test, y_test, color='orange')\n",
    "ax1.plot(X_test, probability_distribution[:,1], color='lightblue')\n",
    "#fig.axes.hlines(0, xmin=ax1.xaxis.get_data_interval()[0],\n",
    "              #xmax=ax1.xaxis.get_data_interval()[1], linestyles='dashed', lw=1)\n",
    "ax1.set_ylabel('Probability of death')\n",
    "ax1.set_xlabel('Age')"
   ]
  },
  {
   "cell_type": "code",
   "execution_count": null,
   "metadata": {},
   "outputs": [],
   "source": [
    "# Es gibt keinen tollen schönen Zusammenhang"
   ]
  },
  {
   "cell_type": "code",
   "execution_count": null,
   "metadata": {},
   "outputs": [],
   "source": [
    "#SysBP Death"
   ]
  },
  {
   "cell_type": "code",
   "execution_count": 31,
   "metadata": {},
   "outputs": [
    {
     "name": "stdout",
     "output_type": "stream",
     "text": [
      "LogisticRegression(C=1.0, class_weight=None, dual=False, fit_intercept=True,\n",
      "          intercept_scaling=1, max_iter=100, multi_class='ovr', n_jobs=1,\n",
      "          penalty='l2', random_state=None, solver='newton-cg', tol=0.0001,\n",
      "          verbose=0, warm_start=False)\n",
      "[[0.02522832]]\n",
      "[-5.00012691]\n"
     ]
    },
    {
     "data": {
      "text/plain": [
       "Text(0.5,0,'SysBP')"
      ]
     },
     "execution_count": 31,
     "metadata": {},
     "output_type": "execute_result"
    },
    {
     "data": {
      "image/png": "[encoded data removed]",
      "text/plain": [
       "<Figure size 432x360 with 1 Axes>"
      ]
     },
     "metadata": {
      "needs_background": "light"
     },
     "output_type": "display_data"
    }
   ],
   "source": [
    "x_train, x_test, y_train, y_test = train_test_split(fh.SysBP, fh.Death, test_size=0.25, random_state=0)\n",
    "lr = skl_lm.LogisticRegression(solver= 'newton-cg', fit_intercept=True)\n",
    "X = [[x] for x in x_train.values]\n",
    "X_test = [[x] for x in x_test.values]\n",
    "lr.fit(X, y_train)\n",
    "probability_distribution = lr.predict_proba(X_test)\n",
    "#print(probability_distribution)\n",
    "print(lr)\n",
    "print(lr.coef_)\n",
    "print(lr.intercept_)\n",
    "#import seaborn as seaborn\n",
    "fig, ax1 = plt.subplots(1,  figsize=(6,5))\n",
    "ax1.scatter(X_test, y_test, color='orange')\n",
    "ax1.plot(X_test, probability_distribution[:,1], color='lightblue')\n",
    "#fig.axes.hlines(0, xmin=ax1.xaxis.get_data_interval()[0],\n",
    "              #xmax=ax1.xaxis.get_data_interval()[1], linestyles='dashed', lw=1)\n",
    "ax1.set_ylabel('Probability of death')\n",
    "ax1.set_xlabel('SysBP')"
   ]
  },
  {
   "cell_type": "code",
   "execution_count": 73,
   "metadata": {},
   "outputs": [],
   "source": [
    "def logRes(series_x, series_y, namex, namey):\n",
    "    x_train, x_test, y_train, y_test = train_test_split(series_x, series_y, test_size=0.25, random_state=0)\n",
    "    lr = skl_lm.LogisticRegression(solver= 'newton-cg', fit_intercept=True)\n",
    "    X = [[x] for x in x_train.values]\n",
    "    X_test = [[x] for x in x_test.values]\n",
    "    lr.fit(X, y_train)\n",
    "    probability_distribution = lr.predict_proba(X_test)\n",
    "    y_pred = lr.predict(X_test)\n",
    "    #print(probability_distribution)\n",
    "    print(lr)\n",
    "    print(\"Coeffcients: \",lr.coef_)\n",
    "    print(\"Intercept: \",lr.intercept_)\n",
    "    #print(classification_report(y_train, y_pred, target_names=['Did occur', 'Did not occur']))\n",
    "    #import seaborn as seaborn\n",
    "    fig, ax1 = plt.subplots(1,  figsize=(6,5))\n",
    "    ax1.scatter(X_test, y_test, color='orange')\n",
    "    ax1.plot(X_test, probability_distribution[:,1], color='lightblue')\n",
    "    #fig.axes.hlines(0, xmin=ax1.xaxis.get_data_interval()[0],\n",
    "                  #xmax=ax1.xaxis.get_data_interval()[1], linestyles='dashed', lw=1)\n",
    "    yname='Probability of '+ namey\n",
    "    ax1.set_ylabel(yname)\n",
    "    ax1.set_xlabel(namex)"
   ]
  },
  {
   "cell_type": "code",
   "execution_count": 74,
   "metadata": {},
   "outputs": [
    {
     "name": "stdout",
     "output_type": "stream",
     "text": [
      "LogisticRegression(C=1.0, class_weight=None, dual=False, fit_intercept=True,\n",
      "          intercept_scaling=1, max_iter=100, multi_class='ovr', n_jobs=1,\n",
      "          penalty='l2', random_state=None, solver='newton-cg', tol=0.0001,\n",
      "          verbose=0, warm_start=False)\n",
      "Coeffcients:  [[0.02522832]]\n",
      "Intercept:  [-5.00012691]\n"
     ]
    },
    {
     "data": {
      "image/png": "[encoded data removed]",
      "text/plain": [
       "<Figure size 432x360 with 1 Axes>"
      ]
     },
     "metadata": {
      "needs_background": "light"
     },
     "output_type": "display_data"
    }
   ],
   "source": [
    "logRes(fh.SysBP, fh.Death, \"SysBP\", \"Death\")"
   ]
  },
  {
   "cell_type": "code",
   "execution_count": null,
   "metadata": {},
   "outputs": [],
   "source": []
  },
  {
   "cell_type": "code",
   "execution_count": null,
   "metadata": {},
   "outputs": [],
   "source": []
  },
  {
   "cell_type": "code",
   "execution_count": null,
   "metadata": {},
   "outputs": [],
   "source": []
  },
  {
   "cell_type": "markdown",
   "metadata": {},
   "source": [
    "## Linear Discriminant Analysis"
   ]
  },
  {
   "cell_type": "code",
   "execution_count": 209,
   "metadata": {},
   "outputs": [
    {
     "name": "stderr",
     "output_type": "stream",
     "text": [
      "C:\\Users\\rosem\\Anaconda3\\lib\\site-packages\\ipykernel_launcher.py:5: FutureWarning: Method .as_matrix will be removed in a future version. Use .values instead.\n",
      "  \"\"\"\n",
      "C:\\Users\\rosem\\Anaconda3\\lib\\site-packages\\ipykernel_launcher.py:6: FutureWarning: Method .as_matrix will be removed in a future version. Use .values instead.\n",
      "  \n",
      "C:\\Users\\rosem\\Anaconda3\\lib\\site-packages\\sklearn\\discriminant_analysis.py:388: UserWarning: Variables are collinear.\n",
      "  warnings.warn(\"Variables are collinear.\")\n"
     ]
    }
   ],
   "source": [
    "\n",
    "x_Train_raw = fh[quantitaveObserved.columns]\n",
    "x_train, x_test, y_train, y_test = train_test_split(x_Train_raw, fh.Death, test_size=0.25, random_state=0)\n",
    "\n",
    "x_train =  x_train.as_matrix()\n",
    "y_train =  y_train.as_matrix()\n",
    "\n",
    "lda = LinearDiscriminantAnalysis(solver='svd', store_covariance =True)\n",
    "y_pred = lda.fit(x_train, y_train).predict(x_test)"
   ]
  },
  {
   "cell_type": "code",
   "execution_count": 210,
   "metadata": {},
   "outputs": [
    {
     "data": {
      "text/html": [
       "<div>\n",
       "<style scoped>\n",
       "    .dataframe tbody tr th:only-of-type {\n",
       "        vertical-align: middle;\n",
       "    }\n",
       "\n",
       "    .dataframe tbody tr th {\n",
       "        vertical-align: top;\n",
       "    }\n",
       "\n",
       "    .dataframe thead th {\n",
       "        text-align: right;\n",
       "    }\n",
       "</style>\n",
       "<table border=\"1\" class=\"dataframe\">\n",
       "  <thead>\n",
       "    <tr style=\"text-align: right;\">\n",
       "      <th>True Death State</th>\n",
       "      <th>Did not occur</th>\n",
       "      <th>Did occur</th>\n",
       "    </tr>\n",
       "    <tr>\n",
       "      <th>Predicted Death State</th>\n",
       "      <th></th>\n",
       "      <th></th>\n",
       "    </tr>\n",
       "  </thead>\n",
       "  <tbody>\n",
       "    <tr>\n",
       "      <th>Did not occur</th>\n",
       "      <td>555</td>\n",
       "      <td>111</td>\n",
       "    </tr>\n",
       "    <tr>\n",
       "      <th>Did occur</th>\n",
       "      <td>23</td>\n",
       "      <td>37</td>\n",
       "    </tr>\n",
       "  </tbody>\n",
       "</table>\n",
       "</div>"
      ],
      "text/plain": [
       "True Death State       Did not occur  Did occur\n",
       "Predicted Death State                          \n",
       "Did not occur                    555        111\n",
       "Did occur                         23         37"
      ]
     },
     "execution_count": 210,
     "metadata": {},
     "output_type": "execute_result"
    }
   ],
   "source": [
    "df_ = pd.DataFrame({'True Death State': y_test,\n",
    "                    'Predicted Death State': y_pred})\n",
    "df_.replace(to_replace={0:'Did not occur', 1:'Did occur'}, inplace=True)\n",
    "\n",
    "df_.groupby(['Predicted Death State','True Death State']).size().unstack('True Death State')\n",
    "#Confusion matrix"
   ]
  },
  {
   "cell_type": "code",
   "execution_count": null,
   "metadata": {},
   "outputs": [],
   "source": []
  },
  {
   "cell_type": "markdown",
   "metadata": {},
   "source": [
    "Sensetivity specificity "
   ]
  },
  {
   "cell_type": "code",
   "execution_count": 211,
   "metadata": {},
   "outputs": [
    {
     "name": "stdout",
     "output_type": "stream",
     "text": [
      "               precision    recall  f1-score   support\n",
      "\n",
      "    Did occur       0.83      0.96      0.89       578\n",
      "Did not occur       0.62      0.25      0.36       148\n",
      "\n",
      "  avg / total       0.79      0.82      0.78       726\n",
      "\n"
     ]
    }
   ],
   "source": [
    "print(classification_report(y_test, y_pred, target_names=['Did occur', 'Did not occur']))"
   ]
  },
  {
   "cell_type": "code",
   "execution_count": 212,
   "metadata": {},
   "outputs": [
    {
     "data": {
      "text/plain": [
       "0.8154269972451791"
      ]
     },
     "execution_count": 212,
     "metadata": {},
     "output_type": "execute_result"
    }
   ],
   "source": [
    "lda.score(x_test, y_test) #mean accuracy of given test data"
   ]
  },
  {
   "cell_type": "code",
   "execution_count": 163,
   "metadata": {},
   "outputs": [
    {
     "name": "stdout",
     "output_type": "stream",
     "text": [
      "Prior:  [0.80064309 0.19935691]\n",
      "Means:  [[5.01863070e+06 5.87355135e+01 1.36809237e+02 8.14423408e+01\n",
      "  6.90345734e+00 2.37367572e+02 5.02694222e+01 1.77160197e+02\n",
      "  2.59494537e+01 8.81025646e+01 7.69627080e+01 0.00000000e+00\n",
      "  8.03212851e-03]\n",
      " [5.00081567e+06 6.57027650e+01 1.50131336e+02 8.37684332e+01\n",
      "  7.67175937e+00 2.29472812e+02 4.87152776e+01 1.68862831e+02\n",
      "  2.55688889e+01 9.32063409e+01 7.94999706e+01 0.00000000e+00\n",
      "  4.37788018e-02]]\n",
      "Coeffizenten:  [[-1.24797633e-08  1.11346030e-01  1.83700236e-02  9.65021603e-04\n",
      "   2.53367636e-02 -4.44820959e-03 -7.06947736e-03 -2.79790827e-03\n",
      "  -4.56040919e-02  5.53137258e-03  9.86491920e-03  0.00000000e+00\n",
      "   1.80906037e+00]]\n",
      "Intercept:  [-9.42863847]\n",
      "Overall means:  [5.01507915e+06 6.01244832e+01 1.39465090e+02 8.19060634e+01\n",
      " 7.05662366e+00 2.35793697e+02 4.99595927e+01 1.75506059e+02\n",
      " 2.58735855e+01 8.91200377e+01 7.74685288e+01 0.00000000e+00\n",
      " 1.51584750e-02]\n"
     ]
    }
   ],
   "source": [
    "print(\"Prior: \" ,lda.priors_) #class priors which sum up to one\n",
    "print(\"Means: \",lda.means_) #class  means for both classes\n",
    "print(\"Coeffizenten: \",lda.coef_) #weight vectors\n",
    "print(\"Intercept: \",lda.intercept_)\n",
    "print(\"Overall means: \",lda.xbar_)"
   ]
  },
  {
   "cell_type": "code",
   "execution_count": 164,
   "metadata": {},
   "outputs": [
    {
     "data": {
      "text/plain": [
       "array([[ 8.20788823e+12,  1.79667417e+05,  1.03701982e+06,\n",
       "        -2.66427246e+05, -2.88014910e+05, -1.46414883e+06,\n",
       "        -2.36952749e+05, -2.51136719e+06, -9.85211531e+04,\n",
       "         1.83776430e+06, -5.98156743e+05,  0.00000000e+00,\n",
       "         1.61193475e+04],\n",
       "       [ 1.79667417e+05,  5.95451210e+01,  5.02294445e+01,\n",
       "        -3.53971200e+00, -2.43406429e+01,  3.32624776e+01,\n",
       "         1.84553987e+00,  1.75908442e+01, -5.66592426e-01,\n",
       "         1.15774587e+01,  1.35163932e+00,  0.00000000e+00,\n",
       "         7.59532736e-02],\n",
       "       [ 1.03701982e+06,  5.02294445e+01,  4.76361201e+02,\n",
       "         1.61655732e+02, -2.07221083e+01,  8.70139645e+01,\n",
       "         1.32119572e+00,  6.89636612e+01,  2.13077586e+01,\n",
       "         4.36698201e+01,  3.97906176e+01,  0.00000000e+00,\n",
       "         1.52124617e-01],\n",
       "       [-2.66427246e+05, -3.53971200e+00,  1.61655732e+02,\n",
       "         1.22332996e+02, -1.82794657e+00,  2.00840297e+01,\n",
       "        -3.78213166e+00,  1.47329907e+01,  1.38360452e+01,\n",
       "         6.54125038e+00,  2.33741494e+01,  0.00000000e+00,\n",
       "         7.81841977e-02],\n",
       "       [-2.88014910e+05, -2.43406429e+01, -2.07221083e+01,\n",
       "        -1.82794657e+00,  1.40087264e+02, -2.23958304e+01,\n",
       "        -7.50266919e+00,  2.07832031e+00, -4.38895658e+00,\n",
       "        -1.34685200e+01,  1.30128575e+01,  0.00000000e+00,\n",
       "        -5.17199832e-02],\n",
       "       [-1.46414883e+06,  3.32624776e+01,  8.70139645e+01,\n",
       "         2.00840297e+01, -2.23958304e+01,  1.76767659e+03,\n",
       "         1.11470495e+02,  1.58236464e+03,  1.44454197e+00,\n",
       "        -4.19839788e+01,  4.22442624e+01,  0.00000000e+00,\n",
       "         1.65775900e-01],\n",
       "       [-2.36952749e+05,  1.84553987e+00,  1.32119572e+00,\n",
       "        -3.78213166e+00, -7.50266919e+00,  1.11470495e+02,\n",
       "         2.32549396e+02, -1.06593078e+02, -1.11863714e+01,\n",
       "        -3.03399857e+01,  3.57611405e+00,  0.00000000e+00,\n",
       "        -7.05814629e-02],\n",
       "       [-2.51136719e+06,  1.75908442e+01,  6.89636612e+01,\n",
       "         1.47329907e+01,  2.07832031e+00,  1.58236464e+03,\n",
       "        -1.06593078e+02,  1.94378172e+03,  8.75107393e+00,\n",
       "        -2.22796396e+01,  4.40216736e+01,  0.00000000e+00,\n",
       "         1.09566677e-01],\n",
       "       [-9.85211531e+04, -5.66592426e-01,  2.13077586e+01,\n",
       "         1.38360452e+01, -4.38895658e+00,  1.44454197e+00,\n",
       "        -1.11863714e+01,  8.75107393e+00,  1.59678916e+01,\n",
       "         4.61362406e+00,  2.66649117e+00,  0.00000000e+00,\n",
       "         8.99601189e-03],\n",
       "       [ 1.83776430e+06,  1.15774587e+01,  4.36698201e+01,\n",
       "         6.54125038e+00, -1.34685200e+01, -4.19839788e+01,\n",
       "        -3.03399857e+01, -2.22796396e+01,  4.61362406e+00,\n",
       "         4.87773229e+02,  4.00194483e+01,  0.00000000e+00,\n",
       "         1.08438414e-02],\n",
       "       [-5.98156743e+05,  1.35163932e+00,  3.97906176e+01,\n",
       "         2.33741494e+01,  1.30128575e+01,  4.22442624e+01,\n",
       "         3.57611405e+00,  4.40216736e+01,  2.66649117e+00,\n",
       "         4.00194483e+01,  1.52237237e+02,  0.00000000e+00,\n",
       "         1.57793873e-02],\n",
       "       [ 0.00000000e+00,  0.00000000e+00,  0.00000000e+00,\n",
       "         0.00000000e+00,  0.00000000e+00,  0.00000000e+00,\n",
       "         0.00000000e+00,  0.00000000e+00,  0.00000000e+00,\n",
       "         0.00000000e+00,  0.00000000e+00,  0.00000000e+00,\n",
       "         0.00000000e+00],\n",
       "       [ 1.61193475e+04,  7.59532736e-02,  1.52124617e-01,\n",
       "         7.81841977e-02, -5.17199832e-02,  1.65775900e-01,\n",
       "        -7.05814629e-02,  1.09566677e-01,  8.99601189e-03,\n",
       "         1.08438414e-02,  1.57793873e-02,  0.00000000e+00,\n",
       "         1.47247372e-02]])"
      ]
     },
     "execution_count": 164,
     "metadata": {},
     "output_type": "execute_result"
    }
   ],
   "source": [
    "lda.covariance_#covarianceMatrix"
   ]
  },
  {
   "cell_type": "code",
   "execution_count": 213,
   "metadata": {},
   "outputs": [
    {
     "name": "stderr",
     "output_type": "stream",
     "text": [
      "C:\\Users\\rosem\\Anaconda3\\lib\\site-packages\\ipykernel_launcher.py:5: FutureWarning: Method .as_matrix will be removed in a future version. Use .values instead.\n",
      "  \"\"\"\n",
      "C:\\Users\\rosem\\Anaconda3\\lib\\site-packages\\ipykernel_launcher.py:6: FutureWarning: Method .as_matrix will be removed in a future version. Use .values instead.\n",
      "  \n",
      "C:\\Users\\rosem\\Anaconda3\\lib\\site-packages\\sklearn\\discriminant_analysis.py:388: UserWarning: Variables are collinear.\n",
      "  warnings.warn(\"Variables are collinear.\")\n"
     ]
    },
    {
     "data": {
      "text/html": [
       "<div>\n",
       "<style scoped>\n",
       "    .dataframe tbody tr th:only-of-type {\n",
       "        vertical-align: middle;\n",
       "    }\n",
       "\n",
       "    .dataframe tbody tr th {\n",
       "        vertical-align: top;\n",
       "    }\n",
       "\n",
       "    .dataframe thead th {\n",
       "        text-align: right;\n",
       "    }\n",
       "</style>\n",
       "<table border=\"1\" class=\"dataframe\">\n",
       "  <thead>\n",
       "    <tr style=\"text-align: right;\">\n",
       "      <th>True AnyCHD State</th>\n",
       "      <th>Did not occur</th>\n",
       "      <th>Did occur</th>\n",
       "    </tr>\n",
       "    <tr>\n",
       "      <th>Predicted AnyCHD State</th>\n",
       "      <th></th>\n",
       "      <th></th>\n",
       "    </tr>\n",
       "  </thead>\n",
       "  <tbody>\n",
       "    <tr>\n",
       "      <th>Did not occur</th>\n",
       "      <td>599.0</td>\n",
       "      <td>124.0</td>\n",
       "    </tr>\n",
       "    <tr>\n",
       "      <th>Did occur</th>\n",
       "      <td>3.0</td>\n",
       "      <td>NaN</td>\n",
       "    </tr>\n",
       "  </tbody>\n",
       "</table>\n",
       "</div>"
      ],
      "text/plain": [
       "True AnyCHD State       Did not occur  Did occur\n",
       "Predicted AnyCHD State                          \n",
       "Did not occur                   599.0      124.0\n",
       "Did occur                         3.0        NaN"
      ]
     },
     "execution_count": 213,
     "metadata": {},
     "output_type": "execute_result"
    }
   ],
   "source": [
    "\n",
    "x_Train_raw = fh[quantitaveObserved.columns]\n",
    "x_train, x_test, y_train, y_test = train_test_split(x_Train_raw, fh.AnyCHD, test_size=0.25, random_state=0)\n",
    "\n",
    "x_train =  x_train.as_matrix()\n",
    "y_train =  y_train.as_matrix()\n",
    "\n",
    "lda = LinearDiscriminantAnalysis(solver='svd', store_covariance =True)\n",
    "y_pred = lda.fit(x_train, y_train).predict(x_test)\n",
    "df_ = pd.DataFrame({'True AnyCHD State': y_test,\n",
    "                    'Predicted AnyCHD State': y_pred})\n",
    "df_.replace(to_replace={0:'Did not occur', 1:'Did occur'}, inplace=True)\n",
    "\n",
    "df_.groupby(['Predicted AnyCHD State','True AnyCHD State']).size().unstack('True AnyCHD State')\n",
    "#Confusion matrix\n"
   ]
  },
  {
   "cell_type": "code",
   "execution_count": 215,
   "metadata": {},
   "outputs": [
    {
     "name": "stdout",
     "output_type": "stream",
     "text": [
      "               precision    recall  f1-score   support\n",
      "\n",
      "    Did occur       0.83      1.00      0.90       602\n",
      "Did not occur       0.00      0.00      0.00       124\n",
      "\n",
      "  avg / total       0.69      0.83      0.75       726\n",
      "\n",
      "Prior:  [0.83325678 0.16674322]\n",
      "Means:  [[5.00636893e+06 5.97905182e+01 1.38013506e+02 8.14415656e+01\n",
      "  6.97990274e+00 2.35123870e+02 5.06864990e+01 1.74122043e+02\n",
      "  2.57488001e+01 8.85852266e+01 7.72506385e+01 0.00000000e+00\n",
      "  1.37816979e-02]\n",
      " [5.05860627e+06 6.17933884e+01 1.46719008e+02 8.42272727e+01\n",
      "  7.44001692e+00 2.39140983e+02 4.63270637e+01 1.82422330e+02\n",
      "  2.64971687e+01 9.17926201e+01 7.85573804e+01 0.00000000e+00\n",
      "  2.20385675e-02]]\n",
      "Coeffizenten:  [[ 4.78511741e-09  1.99006009e-02  1.31809310e-02  2.33597959e-03\n",
      "   8.49104435e-03  3.71163550e-05 -1.62791409e-02  2.99709766e-03\n",
      "   1.90736019e-02  3.61026196e-03  1.52742842e-03  0.00000000e+00\n",
      "   1.05765576e-01]]\n",
      "Intercept:  [-5.67220768]\n",
      "Overall means:  [5.01507915e+06 6.01244832e+01 1.39465090e+02 8.19060634e+01\n",
      " 7.05662366e+00 2.35793697e+02 4.99595927e+01 1.75506059e+02\n",
      " 2.58735855e+01 8.91200377e+01 7.74685288e+01 0.00000000e+00\n",
      " 1.51584750e-02]\n"
     ]
    },
    {
     "data": {
      "text/plain": [
       "array([[ 8.20755975e+12,  1.45319335e+05,  9.35954867e+05,\n",
       "        -2.93259797e+05, -2.93539036e+05, -1.47085550e+06,\n",
       "        -2.00893363e+05, -2.54801570e+06, -1.02870558e+05,\n",
       "         1.79997281e+06, -6.14855650e+05,  0.00000000e+00,\n",
       "         1.59577739e+04],\n",
       "       [ 1.45319335e+05,  6.67358296e+01,  6.26219834e+01,\n",
       "        -1.72813947e+00, -2.36142779e+01,  2.33650830e+01,\n",
       "         1.33036149e+00,  6.05380903e+00, -1.19806171e+00,\n",
       "         1.63606611e+01,  3.80961213e+00,  0.00000000e+00,\n",
       "         1.13408332e-01],\n",
       "       [ 9.35954867e+05,  6.26219834e+01,  4.94159512e+02,\n",
       "         1.63232482e+02, -1.96449258e+01,  6.53677603e+01,\n",
       "         3.28939730e+00,  4.12806829e+01,  1.95933463e+01,\n",
       "         5.06429626e+01,  4.36052686e+01,  0.00000000e+00,\n",
       "         2.18148958e-01],\n",
       "       [-2.93259797e+05, -1.72813947e+00,  1.63232482e+02,\n",
       "         1.22118423e+02, -1.72077956e+00,  1.55980855e+01,\n",
       "        -2.67184702e+00,  8.43978360e+00,  1.34050975e+01,\n",
       "         7.19475288e+00,  2.38104058e+01,  0.00000000e+00,\n",
       "         8.82603023e-02],\n",
       "       [-2.93539036e+05, -2.36142779e+01, -1.96449258e+01,\n",
       "        -1.72077956e+00,  1.40152068e+02, -2.36207840e+01,\n",
       "        -7.41456539e+00,  5.30178885e-01, -4.48346771e+00,\n",
       "        -1.30476790e+01,  1.32404683e+01,  0.00000000e+00,\n",
       "        -4.78641600e-02],\n",
       "       [-1.47085550e+06,  2.33650830e+01,  6.53677603e+01,\n",
       "         1.55980855e+01, -2.36207840e+01,  1.77538277e+03,\n",
       "         1.15862055e+02,  1.58818755e+03,  1.50640384e+00,\n",
       "        -5.02054750e+01,  3.83176856e+01,  0.00000000e+00,\n",
       "         1.16122617e-01],\n",
       "       [-2.00893363e+05,  1.33036149e+00,  3.28939730e+00,\n",
       "        -2.67184702e+00, -7.41456539e+00,  1.15862055e+02,\n",
       "         2.30294413e+02, -9.95073298e+01, -1.06386809e+01,\n",
       "        -2.96633258e+01,  3.73820658e+00,  0.00000000e+00,\n",
       "        -7.44477011e-02],\n",
       "       [-2.54801570e+06,  6.05380903e+00,  4.12806829e+01,\n",
       "         8.43978360e+00,  5.30178885e-01,  1.58818755e+03,\n",
       "        -9.95073298e+01,  1.94519830e+03,  8.39203428e+00,\n",
       "        -3.27378436e+01,  3.91544018e+01,  0.00000000e+00,\n",
       "         5.27025707e-02],\n",
       "       [-1.02870558e+05, -1.19806171e+00,  1.95933463e+01,\n",
       "         1.34050975e+01, -4.48346771e+00,  1.50640384e+00,\n",
       "        -1.06386809e+01,  8.39203428e+00,  1.59131943e+01,\n",
       "         3.97010426e+00,  2.37649653e+00,  0.00000000e+00,\n",
       "         5.96610366e-03],\n",
       "       [ 1.79997281e+06,  1.63606611e+01,  5.06429626e+01,\n",
       "         7.19475288e+00, -1.30476790e+01, -5.02054750e+01,\n",
       "        -2.96633258e+01, -3.27378436e+01,  3.97010426e+00,\n",
       "         4.90501605e+02,  4.15040556e+01,  0.00000000e+00,\n",
       "         3.62847034e-02],\n",
       "       [-6.14855650e+05,  3.80961213e+00,  4.36052686e+01,\n",
       "         2.38104058e+01,  1.32404683e+01,  3.83176856e+01,\n",
       "         3.73820658e+00,  3.91544018e+01,  2.37649653e+00,\n",
       "         4.15040556e+01,  1.53027532e+02,  0.00000000e+00,\n",
       "         2.87570393e-02],\n",
       "       [ 0.00000000e+00,  0.00000000e+00,  0.00000000e+00,\n",
       "         0.00000000e+00,  0.00000000e+00,  0.00000000e+00,\n",
       "         0.00000000e+00,  0.00000000e+00,  0.00000000e+00,\n",
       "         0.00000000e+00,  0.00000000e+00,  0.00000000e+00,\n",
       "         0.00000000e+00],\n",
       "       [ 1.59577739e+04,  1.13408332e-01,  2.18148958e-01,\n",
       "         8.82603023e-02, -4.78641600e-02,  1.16122617e-01,\n",
       "        -7.44477011e-02,  5.27025707e-02,  5.96610366e-03,\n",
       "         3.62847034e-02,  2.87570393e-02,  0.00000000e+00,\n",
       "         1.49192232e-02]])"
      ]
     },
     "execution_count": 215,
     "metadata": {},
     "output_type": "execute_result"
    }
   ],
   "source": [
    "print(classification_report(y_test, y_pred, target_names=['Did occur', 'Did not occur']))\n",
    "lda.score(x_test, y_test) #mean accuracy of given test data\n",
    "print(\"Prior: \" ,lda.priors_) #class priors which sum up to one\n",
    "print(\"Means: \",lda.means_) #class  means for both classes\n",
    "print(\"Coeffizenten: \",lda.coef_) #weight vectors\n",
    "print(\"Intercept: \",lda.intercept_)\n",
    "print(\"Overall means: \",lda.xbar_)\n",
    "lda.covariance_#covarianceMatrix"
   ]
  },
  {
   "cell_type": "code",
   "execution_count": 216,
   "metadata": {},
   "outputs": [
    {
     "data": {
      "text/plain": [
       "0.8250688705234159"
      ]
     },
     "execution_count": 216,
     "metadata": {},
     "output_type": "execute_result"
    }
   ],
   "source": [
    "lda.score(x_test, y_test) #mean accuracy of given test data"
   ]
  },
  {
   "cell_type": "code",
   "execution_count": null,
   "metadata": {},
   "outputs": [],
   "source": []
  },
  {
   "cell_type": "code",
   "execution_count": null,
   "metadata": {},
   "outputs": [],
   "source": []
  },
  {
   "cell_type": "markdown",
   "metadata": {},
   "source": [
    "## Quadrat Discriminante Analysis"
   ]
  },
  {
   "cell_type": "code",
   "execution_count": 198,
   "metadata": {},
   "outputs": [
    {
     "name": "stderr",
     "output_type": "stream",
     "text": [
      "C:\\Users\\rosem\\Anaconda3\\lib\\site-packages\\ipykernel_launcher.py:5: FutureWarning: Method .as_matrix will be removed in a future version. Use .values instead.\n",
      "  \"\"\"\n",
      "C:\\Users\\rosem\\Anaconda3\\lib\\site-packages\\ipykernel_launcher.py:6: FutureWarning: Method .as_matrix will be removed in a future version. Use .values instead.\n",
      "  \n"
     ]
    }
   ],
   "source": [
    "#Death\n",
    "x_Train_raw = fh[['Age', 'BMI', 'HeartRate']]\n",
    "x_train, x_test, y_train, y_test = train_test_split(x_Train_raw, fh.Death, test_size=0.25, random_state=0)\n",
    "\n",
    "x_train = x_train.as_matrix()\n",
    "y_train = y_train.as_matrix()"
   ]
  },
  {
   "cell_type": "code",
   "execution_count": 199,
   "metadata": {},
   "outputs": [],
   "source": [
    "qda = QuadraticDiscriminantAnalysis()\n",
    "pred = qda.fit(x_train, y_train).predict(x_test)"
   ]
  },
  {
   "cell_type": "code",
   "execution_count": 200,
   "metadata": {},
   "outputs": [
    {
     "data": {
      "text/plain": [
       "array([0.80064309, 0.19935691])"
      ]
     },
     "execution_count": 200,
     "metadata": {},
     "output_type": "execute_result"
    }
   ],
   "source": [
    "qda.priors_"
   ]
  },
  {
   "cell_type": "code",
   "execution_count": 201,
   "metadata": {},
   "outputs": [
    {
     "data": {
      "text/plain": [
       "array([[58.73551348, 25.9494537 , 76.96270797],\n",
       "       [65.70276498, 25.56888893, 79.49997059]])"
      ]
     },
     "execution_count": 201,
     "metadata": {},
     "output_type": "execute_result"
    }
   ],
   "source": [
    "qda.means_"
   ]
  },
  {
   "cell_type": "code",
   "execution_count": 194,
   "metadata": {},
   "outputs": [
    {
     "data": {
      "text/plain": [
       "array([[  0,   0],\n",
       "       [602, 124]], dtype=int64)"
      ]
     },
     "execution_count": 194,
     "metadata": {},
     "output_type": "execute_result"
    }
   ],
   "source": [
    "confusion_matrix(y_test, pred).T"
   ]
  },
  {
   "cell_type": "code",
   "execution_count": 202,
   "metadata": {},
   "outputs": [
    {
     "data": {
      "text/html": [
       "<div>\n",
       "<style scoped>\n",
       "    .dataframe tbody tr th:only-of-type {\n",
       "        vertical-align: middle;\n",
       "    }\n",
       "\n",
       "    .dataframe tbody tr th {\n",
       "        vertical-align: top;\n",
       "    }\n",
       "\n",
       "    .dataframe thead th {\n",
       "        text-align: right;\n",
       "    }\n",
       "</style>\n",
       "<table border=\"1\" class=\"dataframe\">\n",
       "  <thead>\n",
       "    <tr style=\"text-align: right;\">\n",
       "      <th>True Death State</th>\n",
       "      <th>Did not occur</th>\n",
       "      <th>Did occur</th>\n",
       "    </tr>\n",
       "    <tr>\n",
       "      <th>Predicted Death State</th>\n",
       "      <th></th>\n",
       "      <th></th>\n",
       "    </tr>\n",
       "  </thead>\n",
       "  <tbody>\n",
       "    <tr>\n",
       "      <th>Did not occur</th>\n",
       "      <td>553</td>\n",
       "      <td>120</td>\n",
       "    </tr>\n",
       "    <tr>\n",
       "      <th>Did occur</th>\n",
       "      <td>25</td>\n",
       "      <td>28</td>\n",
       "    </tr>\n",
       "  </tbody>\n",
       "</table>\n",
       "</div>"
      ],
      "text/plain": [
       "True Death State       Did not occur  Did occur\n",
       "Predicted Death State                          \n",
       "Did not occur                    553        120\n",
       "Did occur                         25         28"
      ]
     },
     "execution_count": 202,
     "metadata": {},
     "output_type": "execute_result"
    }
   ],
   "source": [
    "df_ = pd.DataFrame({'True Death State': y_test,\n",
    "                    'Predicted Death State': pred})\n",
    "df_.replace(to_replace={0:'Did not occur', 1:'Did occur'}, inplace=True)\n",
    "\n",
    "df_.groupby(['Predicted Death State','True Death State']).size().unstack('True Death State')"
   ]
  },
  {
   "cell_type": "code",
   "execution_count": 203,
   "metadata": {},
   "outputs": [
    {
     "name": "stdout",
     "output_type": "stream",
     "text": [
      "             precision    recall  f1-score   support\n",
      "\n",
      "        0.0      0.822     0.957     0.884       578\n",
      "        1.0      0.528     0.189     0.279       148\n",
      "\n",
      "avg / total      0.762     0.800     0.761       726\n",
      "\n"
     ]
    }
   ],
   "source": [
    "print(classification_report(y_test, pred, digits=3))"
   ]
  },
  {
   "cell_type": "code",
   "execution_count": 204,
   "metadata": {},
   "outputs": [
    {
     "data": {
      "text/plain": [
       "0.800275482093664"
      ]
     },
     "execution_count": 204,
     "metadata": {},
     "output_type": "execute_result"
    }
   ],
   "source": [
    "qda.score(x_test, y_test)"
   ]
  },
  {
   "cell_type": "code",
   "execution_count": 205,
   "metadata": {},
   "outputs": [
    {
     "name": "stderr",
     "output_type": "stream",
     "text": [
      "C:\\Users\\rosem\\Anaconda3\\lib\\site-packages\\ipykernel_launcher.py:5: FutureWarning: Method .as_matrix will be removed in a future version. Use .values instead.\n",
      "  \"\"\"\n",
      "C:\\Users\\rosem\\Anaconda3\\lib\\site-packages\\ipykernel_launcher.py:6: FutureWarning: Method .as_matrix will be removed in a future version. Use .values instead.\n",
      "  \n"
     ]
    },
    {
     "data": {
      "text/plain": [
       "array([0.83325678, 0.16674322])"
      ]
     },
     "execution_count": 205,
     "metadata": {},
     "output_type": "execute_result"
    }
   ],
   "source": [
    "#AnyCHD\n",
    "x_Train_raw = fh[['Age', 'BMI', 'HeartRate']]\n",
    "x_train, x_test, y_train, y_test = train_test_split(x_Train_raw, fh.AnyCHD, test_size=0.25, random_state=0)\n",
    "\n",
    "x_train = x_train.as_matrix()\n",
    "y_train = y_train.as_matrix()\n",
    "qda = QuadraticDiscriminantAnalysis()\n",
    "pred = qda.fit(x_train, y_train).predict(x_test)\n",
    "qda.priors_"
   ]
  },
  {
   "cell_type": "code",
   "execution_count": 206,
   "metadata": {},
   "outputs": [
    {
     "data": {
      "text/plain": [
       "array([[59.79051819, 25.74880009, 77.25063846],\n",
       "       [61.79338843, 26.4971687 , 78.55738038]])"
      ]
     },
     "execution_count": 206,
     "metadata": {},
     "output_type": "execute_result"
    }
   ],
   "source": [
    "qda.means_"
   ]
  },
  {
   "cell_type": "code",
   "execution_count": 207,
   "metadata": {},
   "outputs": [
    {
     "data": {
      "text/plain": [
       "array([[601, 124],\n",
       "       [  1,   0]], dtype=int64)"
      ]
     },
     "execution_count": 207,
     "metadata": {},
     "output_type": "execute_result"
    }
   ],
   "source": [
    "confusion_matrix(y_test, pred).T"
   ]
  },
  {
   "cell_type": "code",
   "execution_count": 208,
   "metadata": {},
   "outputs": [
    {
     "data": {
      "text/html": [
       "<div>\n",
       "<style scoped>\n",
       "    .dataframe tbody tr th:only-of-type {\n",
       "        vertical-align: middle;\n",
       "    }\n",
       "\n",
       "    .dataframe tbody tr th {\n",
       "        vertical-align: top;\n",
       "    }\n",
       "\n",
       "    .dataframe thead th {\n",
       "        text-align: right;\n",
       "    }\n",
       "</style>\n",
       "<table border=\"1\" class=\"dataframe\">\n",
       "  <thead>\n",
       "    <tr style=\"text-align: right;\">\n",
       "      <th>True AnyCHD State</th>\n",
       "      <th>Did not occur</th>\n",
       "      <th>Did occur</th>\n",
       "    </tr>\n",
       "    <tr>\n",
       "      <th>Predicted AnyCHD State</th>\n",
       "      <th></th>\n",
       "      <th></th>\n",
       "    </tr>\n",
       "  </thead>\n",
       "  <tbody>\n",
       "    <tr>\n",
       "      <th>Did not occur</th>\n",
       "      <td>601.0</td>\n",
       "      <td>124.0</td>\n",
       "    </tr>\n",
       "    <tr>\n",
       "      <th>Did occur</th>\n",
       "      <td>1.0</td>\n",
       "      <td>NaN</td>\n",
       "    </tr>\n",
       "  </tbody>\n",
       "</table>\n",
       "</div>"
      ],
      "text/plain": [
       "True AnyCHD State       Did not occur  Did occur\n",
       "Predicted AnyCHD State                          \n",
       "Did not occur                   601.0      124.0\n",
       "Did occur                         1.0        NaN"
      ]
     },
     "execution_count": 208,
     "metadata": {},
     "output_type": "execute_result"
    }
   ],
   "source": [
    "df_ = pd.DataFrame({'True AnyCHD State': y_test,\n",
    "                    'Predicted AnyCHD State': pred})\n",
    "df_.replace(to_replace={0:'Did not occur', 1:'Did occur'}, inplace=True)\n",
    "\n",
    "df_.groupby(['Predicted AnyCHD State','True AnyCHD State']).size().unstack('True AnyCHD State')"
   ]
  },
  {
   "cell_type": "code",
   "execution_count": 182,
   "metadata": {},
   "outputs": [
    {
     "name": "stdout",
     "output_type": "stream",
     "text": [
      "             precision    recall  f1-score   support\n",
      "\n",
      "        0.0      0.829     0.998     0.906       602\n",
      "        1.0      0.000     0.000     0.000       124\n",
      "\n",
      "avg / total      0.687     0.828     0.751       726\n",
      "\n"
     ]
    }
   ],
   "source": [
    "print(classification_report(y_test, pred, digits=3))"
   ]
  },
  {
   "cell_type": "code",
   "execution_count": 183,
   "metadata": {},
   "outputs": [
    {
     "data": {
      "text/plain": [
       "0.8278236914600551"
      ]
     },
     "execution_count": 183,
     "metadata": {},
     "output_type": "execute_result"
    }
   ],
   "source": [
    "qda.score(x_test, y_test)"
   ]
  },
  {
   "cell_type": "code",
   "execution_count": null,
   "metadata": {},
   "outputs": [],
   "source": []
  },
  {
   "cell_type": "markdown",
   "metadata": {},
   "source": [
    "## K-Nearest Neighbors"
   ]
  },
  {
   "cell_type": "code",
   "execution_count": 184,
   "metadata": {},
   "outputs": [
    {
     "name": "stderr",
     "output_type": "stream",
     "text": [
      "C:\\Users\\rosem\\Anaconda3\\lib\\site-packages\\ipykernel_launcher.py:5: FutureWarning: Method .as_matrix will be removed in a future version. Use .values instead.\n",
      "  \"\"\"\n",
      "C:\\Users\\rosem\\Anaconda3\\lib\\site-packages\\ipykernel_launcher.py:6: FutureWarning: Method .as_matrix will be removed in a future version. Use .values instead.\n",
      "  \n"
     ]
    }
   ],
   "source": [
    "#Death\n",
    "x_Train_raw = fh[quantitaveObserved.columns]\n",
    "x_train, x_test, y_train, y_test = train_test_split(x_Train_raw, fh.Death, test_size=0.25, random_state=0)\n",
    "\n",
    "x_train =  x_train.as_matrix()\n",
    "y_train =  y_train.as_matrix()"
   ]
  },
  {
   "cell_type": "code",
   "execution_count": 185,
   "metadata": {},
   "outputs": [
    {
     "data": {
      "text/html": [
       "<div>\n",
       "<style scoped>\n",
       "    .dataframe tbody tr th:only-of-type {\n",
       "        vertical-align: middle;\n",
       "    }\n",
       "\n",
       "    .dataframe tbody tr th {\n",
       "        vertical-align: top;\n",
       "    }\n",
       "\n",
       "    .dataframe thead th {\n",
       "        text-align: right;\n",
       "    }\n",
       "</style>\n",
       "<table border=\"1\" class=\"dataframe\">\n",
       "  <thead>\n",
       "    <tr style=\"text-align: right;\">\n",
       "      <th>True Death State</th>\n",
       "      <th>Did not occur</th>\n",
       "      <th>Did occur</th>\n",
       "    </tr>\n",
       "    <tr>\n",
       "      <th>Predicted Death State</th>\n",
       "      <th></th>\n",
       "      <th></th>\n",
       "    </tr>\n",
       "  </thead>\n",
       "  <tbody>\n",
       "    <tr>\n",
       "      <th>Did not occur</th>\n",
       "      <td>449</td>\n",
       "      <td>111</td>\n",
       "    </tr>\n",
       "    <tr>\n",
       "      <th>Did occur</th>\n",
       "      <td>129</td>\n",
       "      <td>37</td>\n",
       "    </tr>\n",
       "  </tbody>\n",
       "</table>\n",
       "</div>"
      ],
      "text/plain": [
       "True Death State       Did not occur  Did occur\n",
       "Predicted Death State                          \n",
       "Did not occur                    449        111\n",
       "Did occur                        129         37"
      ]
     },
     "execution_count": 185,
     "metadata": {},
     "output_type": "execute_result"
    }
   ],
   "source": [
    "knn = neighbors.KNeighborsClassifier(n_neighbors=1)\n",
    "pred = knn.fit(x_train, y_train).predict(x_test)\n",
    "df_ = pd.DataFrame({'True Death State': y_test,\n",
    "                    'Predicted Death State': pred})\n",
    "df_.replace(to_replace={0:'Did not occur', 1:'Did occur'}, inplace=True)\n",
    "\n",
    "df_.groupby(['Predicted Death State','True Death State']).size().unstack('True Death State')\n",
    "\n"
   ]
  },
  {
   "cell_type": "code",
   "execution_count": 186,
   "metadata": {},
   "outputs": [
    {
     "name": "stdout",
     "output_type": "stream",
     "text": [
      "             precision    recall  f1-score   support\n",
      "\n",
      "        0.0      0.802     0.777     0.789       578\n",
      "        1.0      0.223     0.250     0.236       148\n",
      "\n",
      "avg / total      0.684     0.669     0.676       726\n",
      "\n"
     ]
    }
   ],
   "source": [
    "print(classification_report(y_test, pred, digits=3))"
   ]
  },
  {
   "cell_type": "code",
   "execution_count": 187,
   "metadata": {},
   "outputs": [
    {
     "data": {
      "text/plain": [
       "0.6694214876033058"
      ]
     },
     "execution_count": 187,
     "metadata": {},
     "output_type": "execute_result"
    }
   ],
   "source": [
    "knn.score(x_test, y_test)"
   ]
  },
  {
   "cell_type": "code",
   "execution_count": 188,
   "metadata": {},
   "outputs": [
    {
     "name": "stdout",
     "output_type": "stream",
     "text": [
      "[[511 104]\n",
      " [ 91  20]]\n",
      "             precision    recall  f1-score   support\n",
      "\n",
      "        0.0      0.831     0.849     0.840       602\n",
      "        1.0      0.180     0.161     0.170       124\n",
      "\n",
      "avg / total      0.720     0.731     0.725       726\n",
      "\n"
     ]
    },
    {
     "name": "stderr",
     "output_type": "stream",
     "text": [
      "C:\\Users\\rosem\\Anaconda3\\lib\\site-packages\\ipykernel_launcher.py:5: FutureWarning: Method .as_matrix will be removed in a future version. Use .values instead.\n",
      "  \"\"\"\n",
      "C:\\Users\\rosem\\Anaconda3\\lib\\site-packages\\ipykernel_launcher.py:6: FutureWarning: Method .as_matrix will be removed in a future version. Use .values instead.\n",
      "  \n"
     ]
    }
   ],
   "source": [
    "#AnyCHD\n",
    "x_Train_raw = fh[quantitaveObserved.columns]\n",
    "x_train, x_test, y_train, y_test = train_test_split(x_Train_raw, fh.AnyCHD, test_size=0.25, random_state=0)\n",
    "\n",
    "x_train =  x_train.as_matrix()\n",
    "y_train =  y_train.as_matrix()\n",
    "knn = neighbors.KNeighborsClassifier(n_neighbors=1)\n",
    "pred = knn.fit(x_train, y_train).predict(x_test)\n",
    "print(confusion_matrix(y_test, pred).T)\n",
    "print(classification_report(y_test, pred, digits=3))"
   ]
  },
  {
   "cell_type": "code",
   "execution_count": 189,
   "metadata": {},
   "outputs": [
    {
     "data": {
      "text/html": [
       "<div>\n",
       "<style scoped>\n",
       "    .dataframe tbody tr th:only-of-type {\n",
       "        vertical-align: middle;\n",
       "    }\n",
       "\n",
       "    .dataframe tbody tr th {\n",
       "        vertical-align: top;\n",
       "    }\n",
       "\n",
       "    .dataframe thead th {\n",
       "        text-align: right;\n",
       "    }\n",
       "</style>\n",
       "<table border=\"1\" class=\"dataframe\">\n",
       "  <thead>\n",
       "    <tr style=\"text-align: right;\">\n",
       "      <th>True AnyCHD State</th>\n",
       "      <th>Did not occur</th>\n",
       "      <th>Did occur</th>\n",
       "    </tr>\n",
       "    <tr>\n",
       "      <th>Predicted AnyCHD State</th>\n",
       "      <th></th>\n",
       "      <th></th>\n",
       "    </tr>\n",
       "  </thead>\n",
       "  <tbody>\n",
       "    <tr>\n",
       "      <th>Did not occur</th>\n",
       "      <td>511</td>\n",
       "      <td>104</td>\n",
       "    </tr>\n",
       "    <tr>\n",
       "      <th>Did occur</th>\n",
       "      <td>91</td>\n",
       "      <td>20</td>\n",
       "    </tr>\n",
       "  </tbody>\n",
       "</table>\n",
       "</div>"
      ],
      "text/plain": [
       "True AnyCHD State       Did not occur  Did occur\n",
       "Predicted AnyCHD State                          \n",
       "Did not occur                     511        104\n",
       "Did occur                          91         20"
      ]
     },
     "execution_count": 189,
     "metadata": {},
     "output_type": "execute_result"
    }
   ],
   "source": [
    "df_ = pd.DataFrame({'True AnyCHD State': y_test,\n",
    "                    'Predicted AnyCHD State': pred})\n",
    "df_.replace(to_replace={0:'Did not occur', 1:'Did occur'}, inplace=True)\n",
    "\n",
    "df_.groupby(['Predicted AnyCHD State','True AnyCHD State']).size().unstack('True AnyCHD State')"
   ]
  },
  {
   "cell_type": "code",
   "execution_count": 190,
   "metadata": {},
   "outputs": [
    {
     "data": {
      "text/plain": [
       "0.731404958677686"
      ]
     },
     "execution_count": 190,
     "metadata": {},
     "output_type": "execute_result"
    }
   ],
   "source": [
    "knn.score(x_test, y_test)"
   ]
  },
  {
   "cell_type": "code",
   "execution_count": null,
   "metadata": {},
   "outputs": [],
   "source": []
  }
 ],
 "metadata": {
  "kernelspec": {
   "display_name": "Python 3",
   "language": "python",
   "name": "python3"
  },
  "language_info": {
   "codemirror_mode": {
    "name": "ipython",
    "version": 3
   },
   "file_extension": ".py",
   "mimetype": "text/x-python",
   "name": "python",
   "nbconvert_exporter": "python",
   "pygments_lexer": "ipython3",
   "version": "3.7.3"
  }
 },
 "nbformat": 4,
 "nbformat_minor": 2
}
